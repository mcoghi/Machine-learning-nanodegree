{
 "cells": [
  {
   "cell_type": "markdown",
   "metadata": {},
   "source": [
    "# Machine Learning Engineer Nanodegree\n",
    "## Supervised Learning\n",
    "## Project: Finding Donors for *CharityML*"
   ]
  },
  {
   "cell_type": "markdown",
   "metadata": {},
   "source": [
    "Welcome to the second project of the Machine Learning Engineer Nanodegree! In this notebook, some template code has already been provided for you, and it will be your job to implement the additional functionality necessary to successfully complete this project. Sections that begin with **'Implementation'** in the header indicate that the following block of code will require additional functionality which you must provide. Instructions will be provided for each section and the specifics of the implementation are marked in the code block with a `'TODO'` statement. Please be sure to read the instructions carefully!\n",
    "\n",
    "In addition to implementing code, there will be questions that you must answer which relate to the project and your implementation. Each section where you will answer a question is preceded by a **'Question X'** header. Carefully read each question and provide thorough answers in the following text boxes that begin with **'Answer:'**. Your project submission will be evaluated based on your answers to each of the questions and the implementation you provide.  \n",
    "\n",
    ">**Note:** Please specify WHICH VERSION OF PYTHON you are using when submitting this notebook. Code and Markdown cells can be executed using the **Shift + Enter** keyboard shortcut. In addition, Markdown cells can be edited by typically double-clicking the cell to enter edit mode."
   ]
  },
  {
   "cell_type": "markdown",
   "metadata": {},
   "source": [
    "## Getting Started\n",
    "\n",
    "In this project, you will employ several supervised algorithms of your choice to accurately model individuals' income using data collected from the 1994 U.S. Census. You will then choose the best candidate algorithm from preliminary results and further optimize this algorithm to best model the data. Your goal with this implementation is to construct a model that accurately predicts whether an individual makes more than $50,000. This sort of task can arise in a non-profit setting, where organizations survive on donations.  Understanding an individual's income can help a non-profit better understand how large of a donation to request, or whether or not they should reach out to begin with.  While it can be difficult to determine an individual's general income bracket directly from public sources, we can (as we will see) infer this value from other publically available features. \n",
    "\n",
    "The dataset for this project originates from the [UCI Machine Learning Repository](https://archive.ics.uci.edu/ml/datasets/Census+Income). The datset was donated by Ron Kohavi and Barry Becker, after being published in the article _\"Scaling Up the Accuracy of Naive-Bayes Classifiers: A Decision-Tree Hybrid\"_. You can find the article by Ron Kohavi [online](https://www.aaai.org/Papers/KDD/1996/KDD96-033.pdf). The data we investigate here consists of small changes to the original dataset, such as removing the `'fnlwgt'` feature and records with missing or ill-formatted entries."
   ]
  },
  {
   "cell_type": "markdown",
   "metadata": {},
   "source": [
    "----\n",
    "## Exploring the Data\n",
    "Run the code cell below to load necessary Python libraries and load the census data. Note that the last column from this dataset, `'income'`, will be our target label (whether an individual makes more than, or at most, $50,000 annually). All other columns are features about each individual in the census database."
   ]
  },
  {
   "cell_type": "code",
   "execution_count": 1,
   "metadata": {},
   "outputs": [
    {
     "data": {
      "text/html": [
       "<div>\n",
       "<style>\n",
       "    .dataframe thead tr:only-child th {\n",
       "        text-align: right;\n",
       "    }\n",
       "\n",
       "    .dataframe thead th {\n",
       "        text-align: left;\n",
       "    }\n",
       "\n",
       "    .dataframe tbody tr th {\n",
       "        vertical-align: top;\n",
       "    }\n",
       "</style>\n",
       "<table border=\"1\" class=\"dataframe\">\n",
       "  <thead>\n",
       "    <tr style=\"text-align: right;\">\n",
       "      <th></th>\n",
       "      <th>age</th>\n",
       "      <th>workclass</th>\n",
       "      <th>education_level</th>\n",
       "      <th>education-num</th>\n",
       "      <th>marital-status</th>\n",
       "      <th>occupation</th>\n",
       "      <th>relationship</th>\n",
       "      <th>race</th>\n",
       "      <th>sex</th>\n",
       "      <th>capital-gain</th>\n",
       "      <th>capital-loss</th>\n",
       "      <th>hours-per-week</th>\n",
       "      <th>native-country</th>\n",
       "      <th>income</th>\n",
       "    </tr>\n",
       "  </thead>\n",
       "  <tbody>\n",
       "    <tr>\n",
       "      <th>0</th>\n",
       "      <td>39</td>\n",
       "      <td>State-gov</td>\n",
       "      <td>Bachelors</td>\n",
       "      <td>13.0</td>\n",
       "      <td>Never-married</td>\n",
       "      <td>Adm-clerical</td>\n",
       "      <td>Not-in-family</td>\n",
       "      <td>White</td>\n",
       "      <td>Male</td>\n",
       "      <td>2174.0</td>\n",
       "      <td>0.0</td>\n",
       "      <td>40.0</td>\n",
       "      <td>United-States</td>\n",
       "      <td>&lt;=50K</td>\n",
       "    </tr>\n",
       "    <tr>\n",
       "      <th>1</th>\n",
       "      <td>50</td>\n",
       "      <td>Self-emp-not-inc</td>\n",
       "      <td>Bachelors</td>\n",
       "      <td>13.0</td>\n",
       "      <td>Married-civ-spouse</td>\n",
       "      <td>Exec-managerial</td>\n",
       "      <td>Husband</td>\n",
       "      <td>White</td>\n",
       "      <td>Male</td>\n",
       "      <td>0.0</td>\n",
       "      <td>0.0</td>\n",
       "      <td>13.0</td>\n",
       "      <td>United-States</td>\n",
       "      <td>&lt;=50K</td>\n",
       "    </tr>\n",
       "    <tr>\n",
       "      <th>2</th>\n",
       "      <td>38</td>\n",
       "      <td>Private</td>\n",
       "      <td>HS-grad</td>\n",
       "      <td>9.0</td>\n",
       "      <td>Divorced</td>\n",
       "      <td>Handlers-cleaners</td>\n",
       "      <td>Not-in-family</td>\n",
       "      <td>White</td>\n",
       "      <td>Male</td>\n",
       "      <td>0.0</td>\n",
       "      <td>0.0</td>\n",
       "      <td>40.0</td>\n",
       "      <td>United-States</td>\n",
       "      <td>&lt;=50K</td>\n",
       "    </tr>\n",
       "    <tr>\n",
       "      <th>3</th>\n",
       "      <td>53</td>\n",
       "      <td>Private</td>\n",
       "      <td>11th</td>\n",
       "      <td>7.0</td>\n",
       "      <td>Married-civ-spouse</td>\n",
       "      <td>Handlers-cleaners</td>\n",
       "      <td>Husband</td>\n",
       "      <td>Black</td>\n",
       "      <td>Male</td>\n",
       "      <td>0.0</td>\n",
       "      <td>0.0</td>\n",
       "      <td>40.0</td>\n",
       "      <td>United-States</td>\n",
       "      <td>&lt;=50K</td>\n",
       "    </tr>\n",
       "    <tr>\n",
       "      <th>4</th>\n",
       "      <td>28</td>\n",
       "      <td>Private</td>\n",
       "      <td>Bachelors</td>\n",
       "      <td>13.0</td>\n",
       "      <td>Married-civ-spouse</td>\n",
       "      <td>Prof-specialty</td>\n",
       "      <td>Wife</td>\n",
       "      <td>Black</td>\n",
       "      <td>Female</td>\n",
       "      <td>0.0</td>\n",
       "      <td>0.0</td>\n",
       "      <td>40.0</td>\n",
       "      <td>Cuba</td>\n",
       "      <td>&lt;=50K</td>\n",
       "    </tr>\n",
       "    <tr>\n",
       "      <th>5</th>\n",
       "      <td>37</td>\n",
       "      <td>Private</td>\n",
       "      <td>Masters</td>\n",
       "      <td>14.0</td>\n",
       "      <td>Married-civ-spouse</td>\n",
       "      <td>Exec-managerial</td>\n",
       "      <td>Wife</td>\n",
       "      <td>White</td>\n",
       "      <td>Female</td>\n",
       "      <td>0.0</td>\n",
       "      <td>0.0</td>\n",
       "      <td>40.0</td>\n",
       "      <td>United-States</td>\n",
       "      <td>&lt;=50K</td>\n",
       "    </tr>\n",
       "    <tr>\n",
       "      <th>6</th>\n",
       "      <td>49</td>\n",
       "      <td>Private</td>\n",
       "      <td>9th</td>\n",
       "      <td>5.0</td>\n",
       "      <td>Married-spouse-absent</td>\n",
       "      <td>Other-service</td>\n",
       "      <td>Not-in-family</td>\n",
       "      <td>Black</td>\n",
       "      <td>Female</td>\n",
       "      <td>0.0</td>\n",
       "      <td>0.0</td>\n",
       "      <td>16.0</td>\n",
       "      <td>Jamaica</td>\n",
       "      <td>&lt;=50K</td>\n",
       "    </tr>\n",
       "    <tr>\n",
       "      <th>7</th>\n",
       "      <td>52</td>\n",
       "      <td>Self-emp-not-inc</td>\n",
       "      <td>HS-grad</td>\n",
       "      <td>9.0</td>\n",
       "      <td>Married-civ-spouse</td>\n",
       "      <td>Exec-managerial</td>\n",
       "      <td>Husband</td>\n",
       "      <td>White</td>\n",
       "      <td>Male</td>\n",
       "      <td>0.0</td>\n",
       "      <td>0.0</td>\n",
       "      <td>45.0</td>\n",
       "      <td>United-States</td>\n",
       "      <td>&gt;50K</td>\n",
       "    </tr>\n",
       "    <tr>\n",
       "      <th>8</th>\n",
       "      <td>31</td>\n",
       "      <td>Private</td>\n",
       "      <td>Masters</td>\n",
       "      <td>14.0</td>\n",
       "      <td>Never-married</td>\n",
       "      <td>Prof-specialty</td>\n",
       "      <td>Not-in-family</td>\n",
       "      <td>White</td>\n",
       "      <td>Female</td>\n",
       "      <td>14084.0</td>\n",
       "      <td>0.0</td>\n",
       "      <td>50.0</td>\n",
       "      <td>United-States</td>\n",
       "      <td>&gt;50K</td>\n",
       "    </tr>\n",
       "    <tr>\n",
       "      <th>9</th>\n",
       "      <td>42</td>\n",
       "      <td>Private</td>\n",
       "      <td>Bachelors</td>\n",
       "      <td>13.0</td>\n",
       "      <td>Married-civ-spouse</td>\n",
       "      <td>Exec-managerial</td>\n",
       "      <td>Husband</td>\n",
       "      <td>White</td>\n",
       "      <td>Male</td>\n",
       "      <td>5178.0</td>\n",
       "      <td>0.0</td>\n",
       "      <td>40.0</td>\n",
       "      <td>United-States</td>\n",
       "      <td>&gt;50K</td>\n",
       "    </tr>\n",
       "  </tbody>\n",
       "</table>\n",
       "</div>"
      ],
      "text/plain": [
       "   age          workclass education_level  education-num  \\\n",
       "0   39          State-gov       Bachelors           13.0   \n",
       "1   50   Self-emp-not-inc       Bachelors           13.0   \n",
       "2   38            Private         HS-grad            9.0   \n",
       "3   53            Private            11th            7.0   \n",
       "4   28            Private       Bachelors           13.0   \n",
       "5   37            Private         Masters           14.0   \n",
       "6   49            Private             9th            5.0   \n",
       "7   52   Self-emp-not-inc         HS-grad            9.0   \n",
       "8   31            Private         Masters           14.0   \n",
       "9   42            Private       Bachelors           13.0   \n",
       "\n",
       "           marital-status          occupation    relationship    race  \\\n",
       "0           Never-married        Adm-clerical   Not-in-family   White   \n",
       "1      Married-civ-spouse     Exec-managerial         Husband   White   \n",
       "2                Divorced   Handlers-cleaners   Not-in-family   White   \n",
       "3      Married-civ-spouse   Handlers-cleaners         Husband   Black   \n",
       "4      Married-civ-spouse      Prof-specialty            Wife   Black   \n",
       "5      Married-civ-spouse     Exec-managerial            Wife   White   \n",
       "6   Married-spouse-absent       Other-service   Not-in-family   Black   \n",
       "7      Married-civ-spouse     Exec-managerial         Husband   White   \n",
       "8           Never-married      Prof-specialty   Not-in-family   White   \n",
       "9      Married-civ-spouse     Exec-managerial         Husband   White   \n",
       "\n",
       "       sex  capital-gain  capital-loss  hours-per-week  native-country income  \n",
       "0     Male        2174.0           0.0            40.0   United-States  <=50K  \n",
       "1     Male           0.0           0.0            13.0   United-States  <=50K  \n",
       "2     Male           0.0           0.0            40.0   United-States  <=50K  \n",
       "3     Male           0.0           0.0            40.0   United-States  <=50K  \n",
       "4   Female           0.0           0.0            40.0            Cuba  <=50K  \n",
       "5   Female           0.0           0.0            40.0   United-States  <=50K  \n",
       "6   Female           0.0           0.0            16.0         Jamaica  <=50K  \n",
       "7     Male           0.0           0.0            45.0   United-States   >50K  \n",
       "8   Female       14084.0           0.0            50.0   United-States   >50K  \n",
       "9     Male        5178.0           0.0            40.0   United-States   >50K  "
      ]
     },
     "metadata": {},
     "output_type": "display_data"
    }
   ],
   "source": [
    "# Import libraries necessary for this project\n",
    "import numpy as np\n",
    "import pandas as pd\n",
    "from time import time\n",
    "from IPython.display import display # Allows the use of display() for DataFrames\n",
    "\n",
    "# Import supplementary visualization code visuals.py\n",
    "import visuals as vs\n",
    "\n",
    "# Pretty display for notebooks\n",
    "%matplotlib inline\n",
    "\n",
    "# Load the Census dataset\n",
    "data = pd.read_csv(\"census.csv\")\n",
    "\n",
    "# Success - Display the first record\n",
    "display(data.head(10))"
   ]
  },
  {
   "cell_type": "markdown",
   "metadata": {},
   "source": [
    "### Implementation: Data Exploration\n",
    "A cursory investigation of the dataset will determine how many individuals fit into either group, and will tell us about the percentage of these individuals making more than \\$50,000. In the code cell below, you will need to compute the following:\n",
    "- The total number of records, `'n_records'`\n",
    "- The number of individuals making more than \\$50,000 annually, `'n_greater_50k'`.\n",
    "- The number of individuals making at most \\$50,000 annually, `'n_at_most_50k'`.\n",
    "- The percentage of individuals making more than \\$50,000 annually, `'greater_percent'`.\n",
    "\n",
    "** HINT: ** You may need to look at the table above to understand how the `'income'` entries are formatted. "
   ]
  },
  {
   "cell_type": "code",
   "execution_count": 2,
   "metadata": {},
   "outputs": [
    {
     "name": "stdout",
     "output_type": "stream",
     "text": [
      "Total number of records: 45222\n",
      "Individuals making more than $50,000: 11208\n",
      "Individuals making at most $50,000: 34014\n",
      "Percentage of individuals making more than $50,000: 24.78%\n"
     ]
    }
   ],
   "source": [
    "# TODO: Total number of records\n",
    "n_records = data.shape[0]\n",
    "\n",
    "# TODO: Number of records where individual's income is more than $50,000\n",
    "n_greater_50k = data[data[\"income\"] != \"<=50K\"].shape[0]\n",
    "\n",
    "# TODO: Number of records where individual's income is at most $50,000\n",
    "n_at_most_50k = data[data[\"income\"] == \"<=50K\"].shape[0]\n",
    "\n",
    "# TODO: Percentage of individuals whose income is more than $50,000\n",
    "greater_percent = n_greater_50k / float(n_records) * 100\n",
    "\n",
    "# Print the results\n",
    "print (\"Total number of records: {}\".format(n_records))\n",
    "print (\"Individuals making more than $50,000: {}\".format(n_greater_50k))\n",
    "print (\"Individuals making at most $50,000: {}\".format(n_at_most_50k))\n",
    "print (\"Percentage of individuals making more than $50,000: {:.2f}%\".format(greater_percent))"
   ]
  },
  {
   "cell_type": "markdown",
   "metadata": {},
   "source": [
    "** Featureset Exploration **\n",
    "\n",
    "* **age**: continuous. \n",
    "* **workclass**: Private, Self-emp-not-inc, Self-emp-inc, Federal-gov, Local-gov, State-gov, Without-pay, Never-worked. \n",
    "* **education**: Bachelors, Some-college, 11th, HS-grad, Prof-school, Assoc-acdm, Assoc-voc, 9th, 7th-8th, 12th, Masters, 1st-4th, 10th, Doctorate, 5th-6th, Preschool. \n",
    "* **education-num**: continuous. \n",
    "* **marital-status**: Married-civ-spouse, Divorced, Never-married, Separated, Widowed, Married-spouse-absent, Married-AF-spouse. \n",
    "* **occupation**: Tech-support, Craft-repair, Other-service, Sales, Exec-managerial, Prof-specialty, Handlers-cleaners, Machine-op-inspct, Adm-clerical, Farming-fishing, Transport-moving, Priv-house-serv, Protective-serv, Armed-Forces. \n",
    "* **relationship**: Wife, Own-child, Husband, Not-in-family, Other-relative, Unmarried. \n",
    "* **race**: Black, White, Asian-Pac-Islander, Amer-Indian-Eskimo, Other. \n",
    "* **sex**: Female, Male. \n",
    "* **capital-gain**: continuous. \n",
    "* **capital-loss**: continuous. \n",
    "* **hours-per-week**: continuous. \n",
    "* **native-country**: United-States, Cambodia, England, Puerto-Rico, Canada, Germany, Outlying-US(Guam-USVI-etc), India, Japan, Greece, South, China, Cuba, Iran, Honduras, Philippines, Italy, Poland, Jamaica, Vietnam, Mexico, Portugal, Ireland, France, Dominican-Republic, Laos, Ecuador, Taiwan, Haiti, Columbia, Hungary, Guatemala, Nicaragua, Scotland, Thailand, Yugoslavia, El-Salvador, Trinadad&Tobago, Peru, Hong, Holand-Netherlands."
   ]
  },
  {
   "cell_type": "markdown",
   "metadata": {},
   "source": [
    "----\n",
    "## Preparing the Data\n",
    "Before data can be used as input for machine learning algorithms, it often must be cleaned, formatted, and restructured — this is typically known as **preprocessing**. Fortunately, for this dataset, there are no invalid or missing entries we must deal with, however, there are some qualities about certain features that must be adjusted. This preprocessing can help tremendously with the outcome and predictive power of nearly all learning algorithms."
   ]
  },
  {
   "cell_type": "markdown",
   "metadata": {},
   "source": [
    "### Transforming Skewed Continuous Features\n",
    "A dataset may sometimes contain at least one feature whose values tend to lie near a single number, but will also have a non-trivial number of vastly larger or smaller values than that single number.  Algorithms can be sensitive to such distributions of values and can underperform if the range is not properly normalized. With the census dataset two features fit this description: '`capital-gain'` and `'capital-loss'`. \n",
    "\n",
    "Run the code cell below to plot a histogram of these two features. Note the range of the values present and how they are distributed."
   ]
  },
  {
   "cell_type": "code",
   "execution_count": 3,
   "metadata": {},
   "outputs": [
    {
     "data": {
      "image/png": "[encoded data removed]",
      "text/plain": [
       "<matplotlib.figure.Figure at 0x1099a17b8>"
      ]
     },
     "metadata": {},
     "output_type": "display_data"
    }
   ],
   "source": [
    "# Split the data into features and target label\n",
    "income_raw = data['income']\n",
    "features_raw = data.drop('income', axis = 1)\n",
    "\n",
    "# Visualize skewed continuous features of original data\n",
    "vs.distribution(data)"
   ]
  },
  {
   "cell_type": "markdown",
   "metadata": {},
   "source": [
    "For highly-skewed feature distributions such as `'capital-gain'` and `'capital-loss'`, it is common practice to apply a <a href=\"https://en.wikipedia.org/wiki/Data_transformation_(statistics)\">logarithmic transformation</a> on the data so that the very large and very small values do not negatively affect the performance of a learning algorithm. Using a logarithmic transformation significantly reduces the range of values caused by outliers. Care must be taken when applying this transformation however: The logarithm of `0` is undefined, so we must translate the values by a small amount above `0` to apply the the logarithm successfully.\n",
    "\n",
    "Run the code cell below to perform a transformation on the data and visualize the results. Again, note the range of values and how they are distributed. "
   ]
  },
  {
   "cell_type": "code",
   "execution_count": 4,
   "metadata": {},
   "outputs": [
    {
     "data": {
      "image/png": "[encoded data removed]",
      "text/plain": [
       "<matplotlib.figure.Figure at 0x1a0f700ba8>"
      ]
     },
     "metadata": {},
     "output_type": "display_data"
    }
   ],
   "source": [
    "# Log-transform the skewed features\n",
    "skewed = ['capital-gain', 'capital-loss']\n",
    "features_log_transformed = pd.DataFrame(data = features_raw)\n",
    "features_log_transformed[skewed] = features_raw[skewed].apply(lambda x: np.log(x + 1))\n",
    "\n",
    "# Visualize the new log distributions\n",
    "vs.distribution(features_log_transformed, transformed = True)"
   ]
  },
  {
   "cell_type": "markdown",
   "metadata": {},
   "source": [
    "### Normalizing Numerical Features\n",
    "In addition to performing transformations on features that are highly skewed, it is often good practice to perform some type of scaling on numerical features. Applying a scaling to the data does not change the shape of each feature's distribution (such as `'capital-gain'` or `'capital-loss'` above); however, normalization ensures that each feature is treated equally when applying supervised learners. Note that once scaling is applied, observing the data in its raw form will no longer have the same original meaning, as exampled below.\n",
    "\n",
    "Run the code cell below to normalize each numerical feature. We will use [`sklearn.preprocessing.MinMaxScaler`](http://scikit-learn.org/stable/modules/generated/sklearn.preprocessing.MinMaxScaler.html) for this."
   ]
  },
  {
   "cell_type": "code",
   "execution_count": 5,
   "metadata": {},
   "outputs": [
    {
     "data": {
      "text/html": [
       "<div>\n",
       "<style>\n",
       "    .dataframe thead tr:only-child th {\n",
       "        text-align: right;\n",
       "    }\n",
       "\n",
       "    .dataframe thead th {\n",
       "        text-align: left;\n",
       "    }\n",
       "\n",
       "    .dataframe tbody tr th {\n",
       "        vertical-align: top;\n",
       "    }\n",
       "</style>\n",
       "<table border=\"1\" class=\"dataframe\">\n",
       "  <thead>\n",
       "    <tr style=\"text-align: right;\">\n",
       "      <th></th>\n",
       "      <th>age</th>\n",
       "      <th>workclass</th>\n",
       "      <th>education_level</th>\n",
       "      <th>education-num</th>\n",
       "      <th>marital-status</th>\n",
       "      <th>occupation</th>\n",
       "      <th>relationship</th>\n",
       "      <th>race</th>\n",
       "      <th>sex</th>\n",
       "      <th>capital-gain</th>\n",
       "      <th>capital-loss</th>\n",
       "      <th>hours-per-week</th>\n",
       "      <th>native-country</th>\n",
       "    </tr>\n",
       "  </thead>\n",
       "  <tbody>\n",
       "    <tr>\n",
       "      <th>0</th>\n",
       "      <td>0.301370</td>\n",
       "      <td>State-gov</td>\n",
       "      <td>Bachelors</td>\n",
       "      <td>0.800000</td>\n",
       "      <td>Never-married</td>\n",
       "      <td>Adm-clerical</td>\n",
       "      <td>Not-in-family</td>\n",
       "      <td>White</td>\n",
       "      <td>Male</td>\n",
       "      <td>0.667492</td>\n",
       "      <td>0.0</td>\n",
       "      <td>0.397959</td>\n",
       "      <td>United-States</td>\n",
       "    </tr>\n",
       "    <tr>\n",
       "      <th>1</th>\n",
       "      <td>0.452055</td>\n",
       "      <td>Self-emp-not-inc</td>\n",
       "      <td>Bachelors</td>\n",
       "      <td>0.800000</td>\n",
       "      <td>Married-civ-spouse</td>\n",
       "      <td>Exec-managerial</td>\n",
       "      <td>Husband</td>\n",
       "      <td>White</td>\n",
       "      <td>Male</td>\n",
       "      <td>0.000000</td>\n",
       "      <td>0.0</td>\n",
       "      <td>0.122449</td>\n",
       "      <td>United-States</td>\n",
       "    </tr>\n",
       "    <tr>\n",
       "      <th>2</th>\n",
       "      <td>0.287671</td>\n",
       "      <td>Private</td>\n",
       "      <td>HS-grad</td>\n",
       "      <td>0.533333</td>\n",
       "      <td>Divorced</td>\n",
       "      <td>Handlers-cleaners</td>\n",
       "      <td>Not-in-family</td>\n",
       "      <td>White</td>\n",
       "      <td>Male</td>\n",
       "      <td>0.000000</td>\n",
       "      <td>0.0</td>\n",
       "      <td>0.397959</td>\n",
       "      <td>United-States</td>\n",
       "    </tr>\n",
       "    <tr>\n",
       "      <th>3</th>\n",
       "      <td>0.493151</td>\n",
       "      <td>Private</td>\n",
       "      <td>11th</td>\n",
       "      <td>0.400000</td>\n",
       "      <td>Married-civ-spouse</td>\n",
       "      <td>Handlers-cleaners</td>\n",
       "      <td>Husband</td>\n",
       "      <td>Black</td>\n",
       "      <td>Male</td>\n",
       "      <td>0.000000</td>\n",
       "      <td>0.0</td>\n",
       "      <td>0.397959</td>\n",
       "      <td>United-States</td>\n",
       "    </tr>\n",
       "    <tr>\n",
       "      <th>4</th>\n",
       "      <td>0.150685</td>\n",
       "      <td>Private</td>\n",
       "      <td>Bachelors</td>\n",
       "      <td>0.800000</td>\n",
       "      <td>Married-civ-spouse</td>\n",
       "      <td>Prof-specialty</td>\n",
       "      <td>Wife</td>\n",
       "      <td>Black</td>\n",
       "      <td>Female</td>\n",
       "      <td>0.000000</td>\n",
       "      <td>0.0</td>\n",
       "      <td>0.397959</td>\n",
       "      <td>Cuba</td>\n",
       "    </tr>\n",
       "  </tbody>\n",
       "</table>\n",
       "</div>"
      ],
      "text/plain": [
       "        age          workclass education_level  education-num  \\\n",
       "0  0.301370          State-gov       Bachelors       0.800000   \n",
       "1  0.452055   Self-emp-not-inc       Bachelors       0.800000   \n",
       "2  0.287671            Private         HS-grad       0.533333   \n",
       "3  0.493151            Private            11th       0.400000   \n",
       "4  0.150685            Private       Bachelors       0.800000   \n",
       "\n",
       "        marital-status          occupation    relationship    race      sex  \\\n",
       "0        Never-married        Adm-clerical   Not-in-family   White     Male   \n",
       "1   Married-civ-spouse     Exec-managerial         Husband   White     Male   \n",
       "2             Divorced   Handlers-cleaners   Not-in-family   White     Male   \n",
       "3   Married-civ-spouse   Handlers-cleaners         Husband   Black     Male   \n",
       "4   Married-civ-spouse      Prof-specialty            Wife   Black   Female   \n",
       "\n",
       "   capital-gain  capital-loss  hours-per-week  native-country  \n",
       "0      0.667492           0.0        0.397959   United-States  \n",
       "1      0.000000           0.0        0.122449   United-States  \n",
       "2      0.000000           0.0        0.397959   United-States  \n",
       "3      0.000000           0.0        0.397959   United-States  \n",
       "4      0.000000           0.0        0.397959            Cuba  "
      ]
     },
     "metadata": {},
     "output_type": "display_data"
    }
   ],
   "source": [
    "# Import sklearn.preprocessing.StandardScaler\n",
    "from sklearn.preprocessing import MinMaxScaler\n",
    "\n",
    "# Initialize a scaler, then apply it to the features\n",
    "scaler = MinMaxScaler() # default=(0, 1)\n",
    "numerical = ['age', 'education-num', 'capital-gain', 'capital-loss', 'hours-per-week']\n",
    "\n",
    "features_log_minmax_transform = pd.DataFrame(data = features_log_transformed)\n",
    "features_log_minmax_transform[numerical] = scaler.fit_transform(features_log_transformed[numerical])\n",
    "\n",
    "# Show an example of a record with scaling applied\n",
    "display(features_log_minmax_transform.head(n = 5))"
   ]
  },
  {
   "cell_type": "markdown",
   "metadata": {},
   "source": [
    "### Implementation: Data Preprocessing\n",
    "\n",
    "From the table in **Exploring the Data** above, we can see there are several features for each record that are non-numeric. Typically, learning algorithms expect input to be numeric, which requires that non-numeric features (called *categorical variables*) be converted. One popular way to convert categorical variables is by using the **one-hot encoding** scheme. One-hot encoding creates a _\"dummy\"_ variable for each possible category of each non-numeric feature. For example, assume `someFeature` has three possible entries: `A`, `B`, or `C`. We then encode this feature into `someFeature_A`, `someFeature_B` and `someFeature_C`.\n",
    "\n",
    "|   | someFeature |                    | someFeature_A | someFeature_B | someFeature_C |\n",
    "| :-: | :-: |                            | :-: | :-: | :-: |\n",
    "| 0 |  B  |  | 0 | 1 | 0 |\n",
    "| 1 |  C  | ----> one-hot encode ----> | 0 | 0 | 1 |\n",
    "| 2 |  A  |  | 1 | 0 | 0 |\n",
    "\n",
    "Additionally, as with the non-numeric features, we need to convert the non-numeric target label, `'income'` to numerical values for the learning algorithm to work. Since there are only two possible categories for this label (\"<=50K\" and \">50K\"), we can avoid using one-hot encoding and simply encode these two categories as `0` and `1`, respectively. In code cell below, you will need to implement the following:\n",
    " - Use [`pandas.get_dummies()`](http://pandas.pydata.org/pandas-docs/stable/generated/pandas.get_dummies.html?highlight=get_dummies#pandas.get_dummies) to perform one-hot encoding on the `'features_raw'` data.\n",
    " - Convert the target label `'income_raw'` to numerical entries.\n",
    "   - Set records with \"<=50K\" to `0` and records with \">50K\" to `1`."
   ]
  },
  {
   "cell_type": "code",
   "execution_count": 6,
   "metadata": {},
   "outputs": [
    {
     "name": "stdout",
     "output_type": "stream",
     "text": [
      "103 total features after one-hot encoding.\n"
     ]
    }
   ],
   "source": [
    "# TODO: One-hot encode the 'features_log_minmax_transform' data using pandas.get_dummies()\n",
    "features_final = pd.get_dummies(features_log_minmax_transform)\n",
    "\n",
    "# TODO: Encode the 'income_raw' data to numerical values\n",
    "income = pd.get_dummies(income_raw, drop_first = True)[\">50K\"]\n",
    "\n",
    "# Print the number of features after one-hot encoding\n",
    "encoded = list(features_final.columns)\n",
    "print (\"{} total features after one-hot encoding.\".format(len(encoded)))\n",
    "\n",
    "# Uncomment the following line to see the encoded feature names\n",
    "# print(encoded)"
   ]
  },
  {
   "cell_type": "markdown",
   "metadata": {},
   "source": [
    "### Shuffle and Split Data\n",
    "Now all _categorical variables_ have been converted into numerical features, and all numerical features have been normalized. As always, we will now split the data (both features and their labels) into training and test sets. 80% of the data will be used for training and 20% for testing.\n",
    "\n",
    "Run the code cell below to perform this split."
   ]
  },
  {
   "cell_type": "code",
   "execution_count": 7,
   "metadata": {},
   "outputs": [
    {
     "name": "stdout",
     "output_type": "stream",
     "text": [
      "Training set has 36177 samples.\n",
      "Testing set has 9045 samples.\n"
     ]
    }
   ],
   "source": [
    "# Import train_test_split\n",
    "from sklearn.model_selection import train_test_split\n",
    "\n",
    "# Split the 'features' and 'income' data into training and testing sets\n",
    "X_train, X_test, y_train, y_test = train_test_split(features_final, \n",
    "                                                    income, \n",
    "                                                    test_size = 0.2, \n",
    "                                                    random_state = 42)\n",
    "\n",
    "# Show the results of the split\n",
    "print (\"Training set has {} samples.\".format(X_train.shape[0]))\n",
    "print (\"Testing set has {} samples.\".format(X_test.shape[0]))"
   ]
  },
  {
   "cell_type": "markdown",
   "metadata": {},
   "source": [
    "----\n",
    "## Evaluating Model Performance\n",
    "In this section, we will investigate four different algorithms, and determine which is best at modeling the data. Three of these algorithms will be supervised learners of your choice, and the fourth algorithm is known as a *naive predictor*."
   ]
  },
  {
   "cell_type": "markdown",
   "metadata": {},
   "source": [
    "### Metrics and the Naive Predictor\n",
    "*CharityML*, equipped with their research, knows individuals that make more than \\$50,000 are most likely to donate to their charity. Because of this, *CharityML* is particularly interested in predicting who makes more than \\$50,000 accurately. It would seem that using **accuracy** as a metric for evaluating a particular model's performace would be appropriate. Additionally, identifying someone that *does not* make more than \\$50,000 as someone who does would be detrimental to *CharityML*, since they are looking to find individuals willing to donate. Therefore, a model's ability to precisely predict those that make more than \\$50,000 is *more important* than the model's ability to **recall** those individuals. We can use **F-beta score** as a metric that considers both precision and recall:\n",
    "\n",
    "$$ F_{\\beta} = (1 + \\beta^2) \\cdot \\frac{precision \\cdot recall}{\\left( \\beta^2 \\cdot precision \\right) + recall} $$\n",
    "\n",
    "In particular, when $\\beta = 0.5$, more emphasis is placed on precision. This is called the **F$_{0.5}$ score** (or F-score for simplicity).\n",
    "\n",
    "Looking at the distribution of classes (those who make at most \\$50,000, and those who make more), it's clear most individuals do not make more than \\$50,000. This can greatly affect **accuracy**, since we could simply say *\"this person does not make more than \\$50,000\"* and generally be right, without ever looking at the data! Making such a statement would be called **naive**, since we have not considered any information to substantiate the claim. It is always important to consider the *naive prediction* for your data, to help establish a benchmark for whether a model is performing well. That been said, using that prediction would be pointless: If we predicted all people made less than \\$50,000, *CharityML* would identify no one as donors. \n",
    "\n",
    "\n",
    "#### Note: Recap of accuracy, precision, recall\n",
    "\n",
    "** Accuracy ** measures how often the classifier makes the correct prediction. It’s the ratio of the number of correct predictions to the total number of predictions (the number of test data points).\n",
    "\n",
    "** Precision ** tells us what proportion of messages we classified as spam, actually were spam.\n",
    "It is a ratio of true positives(words classified as spam, and which are actually spam) to all positives(all words classified as spam, irrespective of whether that was the correct classificatio), in other words it is the ratio of\n",
    "\n",
    "`[True Positives/(True Positives + False Positives)]`\n",
    "\n",
    "** Recall(sensitivity)** tells us what proportion of messages that actually were spam were classified by us as spam.\n",
    "It is a ratio of true positives(words classified as spam, and which are actually spam) to all the words that were actually spam, in other words it is the ratio of\n",
    "\n",
    "`[True Positives/(True Positives + False Negatives)]`\n",
    "\n",
    "For classification problems that are skewed in their classification distributions like in our case, for example if we had a 100 text messages and only 2 were spam and the rest 98 weren't, accuracy by itself is not a very good metric. We could classify 90 messages as not spam(including the 2 that were spam but we classify them as not spam, hence they would be false negatives) and 10 as spam(all 10 false positives) and still get a reasonably good accuracy score. For such cases, precision and recall come in very handy. These two metrics can be combined to get the F1 score, which is weighted average(harmonic mean) of the precision and recall scores. This score can range from 0 to 1, with 1 being the best possible F1 score(we take the harmonic mean as we are dealing with ratios)."
   ]
  },
  {
   "cell_type": "markdown",
   "metadata": {},
   "source": [
    "### Question 1 - Naive Predictor Performace\n",
    "* If we chose a model that always predicted an individual made more than $50,000, what would  that model's accuracy and F-score be on this dataset? You must use the code cell below and assign your results to `'accuracy'` and `'fscore'` to be used later.\n",
    "\n",
    "** Please note ** that the the purpose of generating a naive predictor is simply to show what a base model without any intelligence would look like. In the real world, ideally your base model would be either the results of a previous model or could be based on a research paper upon which you are looking to improve. When there is no benchmark model set, getting a result better than random choice is a place you could start from.\n",
    "\n",
    "** HINT: ** \n",
    "\n",
    "* When we have a model that always predicts '1' (i.e. the individual makes more than 50k) then our model will have no True Negatives(TN) or False Negatives(FN) as we are not making any negative('0' value) predictions. Therefore our Accuracy in this case becomes the same as our Precision(True Positives/(True Positives + False Positives)) as every prediction that we have made with value '1' that should have '0' becomes a False Positive; therefore our denominator in this case is the total number of records we have in total. \n",
    "* Our Recall score(True Positives/(True Positives + False Negatives)) in this setting becomes 1 as we have no False Negatives."
   ]
  },
  {
   "cell_type": "code",
   "execution_count": 8,
   "metadata": {},
   "outputs": [
    {
     "name": "stdout",
     "output_type": "stream",
     "text": [
      "Naive Predictor '1': [Accuracy score: 0.2478, F-score: 0.2917]\n"
     ]
    }
   ],
   "source": [
    "'''\n",
    "TP = np.sum(income) # Counting the ones as this is the naive case. Note that 'income' is the 'income_raw' data \n",
    "encoded to numerical values done in the data preprocessing step.\n",
    "FP = income.count() - TP # Specific to the naive case\n",
    "\n",
    "TN = 0 # No predicted negatives in the naive case\n",
    "FN = 0 # No predicted negatives in the naive case\n",
    "'''\n",
    "# TODO: Calculate accuracy, precision and recall\n",
    "TP = np.sum(income)\n",
    "total = income.shape[0] # Total = Predicted\n",
    "\n",
    "accuracy = TP / total # TP + TN / Total = TP / Total\n",
    "recall = 1 # TP / TP + FN\n",
    "precision = accuracy # TP / TP + FP = TP / Predicted Positive = TP / Total = accuracy\n",
    "\n",
    "# TODO: Calculate F-score using the formula above for beta = 0.5 and correct values for precision and recall.\n",
    "# HINT: The formula above can be written as (1 + beta**2) * (precision * recall) / ((beta**2 * precision) + recall)\n",
    "beta = 0.5\n",
    "fscore = (1 + beta ** 2) * (precision * recall) / ((beta**2 * precision) + recall)\n",
    "\n",
    "# Print the results \n",
    "print (\"Naive Predictor '1': [Accuracy score: {:.4f}, F-score: {:.4f}]\".format(accuracy, fscore))"
   ]
  },
  {
   "cell_type": "code",
   "execution_count": 9,
   "metadata": {},
   "outputs": [
    {
     "name": "stdout",
     "output_type": "stream",
     "text": [
      "Naive Predictor '0': [Accuracy score: 0.7522, F-score: 0.7914]\n"
     ]
    }
   ],
   "source": [
    "'''\n",
    "What if I want to predict the other class?\n",
    "'''\n",
    "# TODO: Calculate accuracy, precision and recall\n",
    "total = income.shape[0] # Total = Predicted\n",
    "TP = total - np.sum(income) # the true positives are now the 0\n",
    "\n",
    "accuracy = TP / total # TP + TN / Total = TP / Total\n",
    "recall = 1 # TP / TP + FN\n",
    "precision = accuracy # TP / TP + FP = TP / Predicted = TP / Total = accuracy\n",
    "\n",
    "# TODO: Calculate F-score using the formula above for beta = 0.5 and correct values for precision and recall.\n",
    "# HINT: The formula above can be written as (1 + beta**2) * (precision * recall) / ((beta**2 * precision) + recall)\n",
    "beta = 0.5\n",
    "fscore = (1 + beta ** 2) * (precision * recall) / ((beta**2 * precision) + recall)\n",
    "\n",
    "# Print the results \n",
    "print (\"Naive Predictor '0': [Accuracy score: {:.4f}, F-score: {:.4f}]\".format(accuracy, fscore))"
   ]
  },
  {
   "cell_type": "markdown",
   "metadata": {},
   "source": [
    "### Considerations about the naive predictors\n",
    "\n",
    "The naive classifier beahves differently if I set it to predict all '0' or all '1'.\n",
    "The scores are way better when the prediction is always '0', because there are more data with this label.\n",
    "\n",
    "One thing to notice is that this is not the Precision that CharityML is interested into, because they want to be sure that someone has enough money, not that they have not.\n",
    "\n",
    "Regarding the Accuracy, however, I think this should be our benchmark for the accuracy. Because accuracy, being only a ratio of correct answers, is not class-specific."
   ]
  },
  {
   "cell_type": "markdown",
   "metadata": {},
   "source": [
    "###  Supervised Learning Models\n",
    "**The following are some of the supervised learning models that are currently available in** [`scikit-learn`](http://scikit-learn.org/stable/supervised_learning.html) **that you may choose from:**\n",
    "- Gaussian Naive Bayes (GaussianNB)\n",
    "- Decision Trees\n",
    "- Ensemble Methods (Bagging, AdaBoost, Random Forest, Gradient Boosting)\n",
    "- K-Nearest Neighbors (KNeighbors)\n",
    "- Stochastic Gradient Descent Classifier (SGDC)\n",
    "- Support Vector Machines (SVM)\n",
    "- Logistic Regression"
   ]
  },
  {
   "cell_type": "markdown",
   "metadata": {},
   "source": [
    "### Question 2 - Model Application\n",
    "List three of the supervised learning models above that are appropriate for this problem that you will test on the census data. For each model chosen\n",
    "\n",
    "- Describe one real-world application in industry where the model can be applied. \n",
    "- What are the strengths of the model; when does it perform well?\n",
    "- What are the weaknesses of the model; when does it perform poorly?\n",
    "- What makes this model a good candidate for the problem, given what you know about the data?\n",
    "\n",
    "** HINT: **\n",
    "\n",
    "Structure your answer in the same format as above^, with 4 parts for each of the three models you pick. Please include references with your answer."
   ]
  },
  {
   "cell_type": "markdown",
   "metadata": {},
   "source": [
    "**Answer: **\n",
    "I will try the following classifiers:"
   ]
  },
  {
   "cell_type": "markdown",
   "metadata": {},
   "source": [
    "##### Decision Trees\n",
    "- Real World Applictions. They are often used in medicine, because the decision tree learning is similar to the decision process of the medic. This makes them easier to interpret. However, this is not the only field. Among others: physics, biology, object recognition, text processing.\n",
    "- Strengths:\n",
    "    1. Simple to interpret.\n",
    "    2. Handles both numerical and categorical data.\n",
    "    3. Little data preparation, e.g. no need for dummy variables.\n",
    "    4. No statistical assumption needed, e.g. independence, mean, variance, ecc..\n",
    "    5. Similar to human decision making.\n",
    "    6. Naturally select features: The features that are less used can be removed in subsequent training.\n",
    "- Weaknesses:\n",
    "    1. Not very accurate.\n",
    "    2. Not robust across different training sets.\n",
    "    3. Full learning is NP-complete, hence optimality is often only searched locally (greedy algorithm).\n",
    "    4. Prone to overfitting.\n",
    "- I will use Decision Trees because the results can be interpreted.\n",
    "\n",
    "References:\n",
    "- http://www.cbcb.umd.edu/~salzberg/docs/murthy_thesis/survey/node32.html\n",
    "- [Decsion trees - Wikipedia](https://en.wikipedia.org/wiki/Decision_tree_learning)"
   ]
  },
  {
   "cell_type": "markdown",
   "metadata": {},
   "source": [
    "##### Support Vector Machines\n",
    "- Real World Applications: There are many, among others the followings\n",
    "    1. Face detection.\n",
    "    2. Image classification.\n",
    "    3. Text classification.\n",
    "    4. Protein and cancer classification.\n",
    "    5. Handwriting recognition    \n",
    "- Strengths:\n",
    "    1. Reach global optimal, because of the convexity of the problem.\n",
    "    2. A restricted number of parameters: no need for a very high dimensional grid search.\n",
    "    3. Maximizes margin, making for a robust model.\n",
    "    4. Natively supports kernels, hence non linear relations can be modeled.\n",
    "- Weaknesses:\n",
    "    1. Parameters fo the solved model are difficult to interpret.   \n",
    "    2. Doesn't explicitly compute the probabilities of the classes, those can sometimes matter.\n",
    "- I try them because they are very robust and it looks as if they are good in a variety of applications.\n",
    "References:\n",
    "- [SVM - Wikipedia](https://en.wikipedia.org/wiki/Support_vector_machine)"
   ]
  },
  {
   "cell_type": "markdown",
   "metadata": {},
   "source": [
    "##### Gradient Boosting Classifier\n",
    "- Real World Applications. Gradient boosting is used in the field of learning to rank, among others Yahoo uses a modification to Gradient Boosting in their search engine.\n",
    "- Strengths:\n",
    "    1. Features can be a mix of binary, categorical and continuous types.\n",
    "    2. Predictive power.\n",
    "    3. Robustness to outliers in output space (via robust loss functions).\n",
    "- Weaknesses:\n",
    "    1. Difficult to interpret.   \n",
    "    2. A lot of parameters to tune.\n",
    "    3. Trees cannot be grown in parallel, as each tree improves on the performance of the previous ones.\n",
    "- I use Gradient Boosting because it seems to have a very good predictive power and can deal with mixed features, which is our case.\n",
    "References:\n",
    "- [Gradient Boosting - Wikipedia](https://en.wikipedia.org/wiki/Gradient_boosting)\n",
    "- [Scikit-learn docs](http://scikit-learn.org/stable/modules/ensemble.html#gradient-boosting)"
   ]
  },
  {
   "cell_type": "markdown",
   "metadata": {},
   "source": [
    "### Implementation - Creating a Training and Predicting Pipeline\n",
    "To properly evaluate the performance of each model you've chosen, it's important that you create a training and predicting pipeline that allows you to quickly and effectively train models using various sizes of training data and perform predictions on the testing data. Your implementation here will be used in the following section.\n",
    "In the code block below, you will need to implement the following:\n",
    " - Import `fbeta_score` and `accuracy_score` from [`sklearn.metrics`](http://scikit-learn.org/stable/modules/classes.html#sklearn-metrics-metrics).\n",
    " - Fit the learner to the sampled training data and record the training time.\n",
    " - Perform predictions on the test data `X_test`, and also on the first 300 training points `X_train[:300]`.\n",
    "   - Record the total prediction time.\n",
    " - Calculate the accuracy score for both the training subset and testing set.\n",
    " - Calculate the F-score for both the training subset and testing set.\n",
    "   - Make sure that you set the `beta` parameter!"
   ]
  },
  {
   "cell_type": "code",
   "execution_count": 10,
   "metadata": {
    "collapsed": true
   },
   "outputs": [],
   "source": [
    "# TODO: Import two metrics from sklearn - fbeta_score and accuracy_score\n",
    "from sklearn.metrics import fbeta_score, accuracy_score\n",
    "\n",
    "def train_predict(learner, sample_size, X_train, y_train, X_test, y_test): \n",
    "    '''\n",
    "    inputs:\n",
    "       - learner: the learning algorithm to be trained and predicted on\n",
    "       - sample_size: the size of samples (number) to be drawn from training set\n",
    "       - X_train: features training set\n",
    "       - y_train: income training set\n",
    "       - X_test: features testing set\n",
    "       - y_test: income testing set\n",
    "    '''\n",
    "    \n",
    "    results = {}\n",
    "    \n",
    "    # TODO: Fit the learner to the training data using slicing with 'sample_size' using .fit(training_features[:], training_labels[:])\n",
    "    start = time() # Get start time\n",
    "    learner.fit(X_train[:sample_size], y_train[:sample_size])\n",
    "    end = time() # Get end time\n",
    "    \n",
    "    # TODO: Calculate the training time\n",
    "    results['train_time'] = end - start\n",
    "        \n",
    "    # TODO: Get the predictions on the test set(X_test),\n",
    "    #       then get predictions on the first 300 training samples(X_train) using .predict()\n",
    "    train_subsample = 300\n",
    "    start = time() # Get start time\n",
    "    predictions_test = learner.predict(X_test)\n",
    "    predictions_train = learner.predict(X_train[:train_subsample])\n",
    "    end = time() # Get end time\n",
    "    \n",
    "    # TODO: Calculate the total prediction time\n",
    "    results['pred_time'] = end - start\n",
    "            \n",
    "    # TODO: Compute accuracy on the first 300 training samples which is y_train[:300]\n",
    "    results['acc_train'] = accuracy_score(y_train[:train_subsample], predictions_train)\n",
    "        \n",
    "    # TODO: Compute accuracy on test set using accuracy_score()\n",
    "    results['acc_test'] = accuracy_score(y_test, predictions_test)\n",
    "    \n",
    "    # TODO: Compute F-score on the the first 300 training samples using fbeta_score()\n",
    "    results['f_train'] = fbeta_score(y_train[:train_subsample], predictions_train, beta=0.5)\n",
    "        \n",
    "    # TODO: Compute F-score on the test set which is y_test\n",
    "    results['f_test'] = fbeta_score(y_test, predictions_test, beta=0.5)\n",
    "       \n",
    "    # Success\n",
    "    print (\"{} trained on {} samples.\".format(learner.__class__.__name__, sample_size))\n",
    "        \n",
    "    # Return the results\n",
    "    return results"
   ]
  },
  {
   "cell_type": "markdown",
   "metadata": {},
   "source": [
    "### Implementation: Initial Model Evaluation\n",
    "In the code cell, you will need to implement the following:\n",
    "- Import the three supervised learning models you've discussed in the previous section.\n",
    "- Initialize the three models and store them in `'clf_A'`, `'clf_B'`, and `'clf_C'`.\n",
    "  - Use a `'random_state'` for each model you use, if provided.\n",
    "  - **Note:** Use the default settings for each model — you will tune one specific model in a later section.\n",
    "- Calculate the number of records equal to 1%, 10%, and 100% of the training data.\n",
    "  - Store those values in `'samples_1'`, `'samples_10'`, and `'samples_100'` respectively.\n",
    "\n",
    "**Note:** Depending on which algorithms you chose, the following implementation may take some time to run!"
   ]
  },
  {
   "cell_type": "code",
   "execution_count": 11,
   "metadata": {},
   "outputs": [
    {
     "name": "stderr",
     "output_type": "stream",
     "text": [
      "/Users/michelecoghi/anaconda/lib/python3.5/site-packages/sklearn/metrics/classification.py:1135: UndefinedMetricWarning: F-score is ill-defined and being set to 0.0 due to no predicted samples.\n",
      "  'precision', 'predicted', average, warn_for)\n"
     ]
    },
    {
     "name": "stdout",
     "output_type": "stream",
     "text": [
      "SVC trained on 361 samples.\n",
      "SVC trained on 3617 samples.\n",
      "SVC trained on 36177 samples.\n",
      "DecisionTreeClassifier trained on 361 samples.\n",
      "DecisionTreeClassifier trained on 3617 samples.\n",
      "DecisionTreeClassifier trained on 36177 samples.\n",
      "GradientBoostingClassifier trained on 361 samples.\n",
      "GradientBoostingClassifier trained on 3617 samples.\n",
      "GradientBoostingClassifier trained on 36177 samples.\n"
     ]
    },
    {
     "data": {
      "image/png": "[encoded data removed]",
      "text/plain": [
       "<matplotlib.figure.Figure at 0x10abfafd0>"
      ]
     },
     "metadata": {},
     "output_type": "display_data"
    }
   ],
   "source": [
    "# TODO: Import the three supervised learning models from sklearn\n",
    "from sklearn.svm import SVC\n",
    "from sklearn.ensemble import GradientBoostingClassifier\n",
    "from sklearn.tree import DecisionTreeClassifier\n",
    "\n",
    "# TODO: Initialize the three models\n",
    "clf_A = SVC(random_state = 42)\n",
    "clf_B = DecisionTreeClassifier(random_state = 42)\n",
    "clf_C = GradientBoostingClassifier(random_state = 42)\n",
    "\n",
    "# TODO: Calculate the number of samples for 1%, 10%, and 100% of the training data\n",
    "# HINT: samples_100 is the entire training set i.e. len(y_train)\n",
    "# HINT: samples_10 is 10% of samples_100\n",
    "# HINT: samples_1 is 1% of samples_100\n",
    "samples_100 = len(y_train)\n",
    "samples_10 = int(samples_100 / 10)\n",
    "samples_1 = int(samples_100 / 100)\n",
    "\n",
    "# Change the y into a vector\n",
    "y_train = np.array(y_train).ravel()\n",
    "y_test = np.array(y_test).ravel()\n",
    "\n",
    "# Collect results on the learners\n",
    "results = {}\n",
    "for clf in [clf_A, clf_B, clf_C]:\n",
    "    clf_name = clf.__class__.__name__\n",
    "    results[clf_name] = {}\n",
    "    for i, samples in enumerate([samples_1, samples_10, samples_100]):\n",
    "        results[clf_name][i] = \\\n",
    "        train_predict(clf, samples, X_train, y_train, X_test, y_test)\n",
    "\n",
    "# Run metrics visualization for the three supervised learning models chosen\n",
    "vs.evaluate(results, accuracy, fscore)"
   ]
  },
  {
   "cell_type": "markdown",
   "metadata": {},
   "source": [
    "## ----\n",
    "## Improving Results\n",
    "In this final section, you will choose from the three supervised learning models the *best* model to use on the student data. You will then perform a grid search optimization for the model over the entire training set (`X_train` and `y_train`) by tuning at least one parameter to improve upon the untuned model's F-score. "
   ]
  },
  {
   "cell_type": "markdown",
   "metadata": {},
   "source": [
    "### Question 3 - Choosing the Best Model\n",
    "\n",
    "* Based on the evaluation you performed earlier, in one to two paragraphs, explain to *CharityML* which of the three models you believe to be most appropriate for the task of identifying individuals that make more than \\$50,000. \n",
    "\n",
    "** HINT: ** \n",
    "Look at the graph at the bottom left from the cell above(the visualization created by `vs.evaluate(results, accuracy, fscore)`) and check the F score for the testing set when 100% of the training set is used. Which model has the highest score? Your answer should include discussion of the:\n",
    "* metrics - F score on the testing when 100% of the training data is used, \n",
    "* prediction/training time\n",
    "* the algorithm's suitability for the data."
   ]
  },
  {
   "cell_type": "code",
   "execution_count": 12,
   "metadata": {},
   "outputs": [
    {
     "name": "stdout",
     "output_type": "stream",
     "text": [
      "Before answering, we will have a look at the F-score on the test set:\n",
      "Decision Tree: 0.65\n",
      "SVM: 0.70\n",
      "Gradient Boosting: 0.76\n",
      "GradientBoostingClassifier\n"
     ]
    },
    {
     "data": {
      "text/html": [
       "<div>\n",
       "<style>\n",
       "    .dataframe thead tr:only-child th {\n",
       "        text-align: right;\n",
       "    }\n",
       "\n",
       "    .dataframe thead th {\n",
       "        text-align: left;\n",
       "    }\n",
       "\n",
       "    .dataframe tbody tr th {\n",
       "        vertical-align: top;\n",
       "    }\n",
       "</style>\n",
       "<table border=\"1\" class=\"dataframe\">\n",
       "  <thead>\n",
       "    <tr style=\"text-align: right;\">\n",
       "      <th></th>\n",
       "      <th>1% of train</th>\n",
       "      <th>10% of train</th>\n",
       "      <th>100% of train</th>\n",
       "    </tr>\n",
       "  </thead>\n",
       "  <tbody>\n",
       "    <tr>\n",
       "      <th>acc_test</th>\n",
       "      <td>0.839248</td>\n",
       "      <td>0.863239</td>\n",
       "      <td>0.863792</td>\n",
       "    </tr>\n",
       "    <tr>\n",
       "      <th>acc_train</th>\n",
       "      <td>0.973333</td>\n",
       "      <td>0.896667</td>\n",
       "      <td>0.863333</td>\n",
       "    </tr>\n",
       "    <tr>\n",
       "      <th>f_test</th>\n",
       "      <td>0.693434</td>\n",
       "      <td>0.761771</td>\n",
       "      <td>0.757984</td>\n",
       "    </tr>\n",
       "    <tr>\n",
       "      <th>f_train</th>\n",
       "      <td>0.964010</td>\n",
       "      <td>0.851064</td>\n",
       "      <td>0.764873</td>\n",
       "    </tr>\n",
       "    <tr>\n",
       "      <th>pred_time</th>\n",
       "      <td>0.104869</td>\n",
       "      <td>0.063673</td>\n",
       "      <td>0.060638</td>\n",
       "    </tr>\n",
       "    <tr>\n",
       "      <th>train_time</th>\n",
       "      <td>0.205680</td>\n",
       "      <td>1.635700</td>\n",
       "      <td>17.549791</td>\n",
       "    </tr>\n",
       "  </tbody>\n",
       "</table>\n",
       "</div>"
      ],
      "text/plain": [
       "            1% of train  10% of train  100% of train\n",
       "acc_test       0.839248      0.863239       0.863792\n",
       "acc_train      0.973333      0.896667       0.863333\n",
       "f_test         0.693434      0.761771       0.757984\n",
       "f_train        0.964010      0.851064       0.764873\n",
       "pred_time      0.104869      0.063673       0.060638\n",
       "train_time     0.205680      1.635700      17.549791"
      ]
     },
     "metadata": {},
     "output_type": "display_data"
    },
    {
     "name": "stdout",
     "output_type": "stream",
     "text": [
      "SVC\n"
     ]
    },
    {
     "data": {
      "text/html": [
       "<div>\n",
       "<style>\n",
       "    .dataframe thead tr:only-child th {\n",
       "        text-align: right;\n",
       "    }\n",
       "\n",
       "    .dataframe thead th {\n",
       "        text-align: left;\n",
       "    }\n",
       "\n",
       "    .dataframe tbody tr th {\n",
       "        vertical-align: top;\n",
       "    }\n",
       "</style>\n",
       "<table border=\"1\" class=\"dataframe\">\n",
       "  <thead>\n",
       "    <tr style=\"text-align: right;\">\n",
       "      <th></th>\n",
       "      <th>1% of train</th>\n",
       "      <th>10% of train</th>\n",
       "      <th>100% of train</th>\n",
       "    </tr>\n",
       "  </thead>\n",
       "  <tbody>\n",
       "    <tr>\n",
       "      <th>acc_test</th>\n",
       "      <td>0.745716</td>\n",
       "      <td>0.825207</td>\n",
       "      <td>0.837369</td>\n",
       "    </tr>\n",
       "    <tr>\n",
       "      <th>acc_train</th>\n",
       "      <td>0.730000</td>\n",
       "      <td>0.846667</td>\n",
       "      <td>0.850000</td>\n",
       "    </tr>\n",
       "    <tr>\n",
       "      <th>f_test</th>\n",
       "      <td>0.000000</td>\n",
       "      <td>0.670825</td>\n",
       "      <td>0.695181</td>\n",
       "    </tr>\n",
       "    <tr>\n",
       "      <th>f_train</th>\n",
       "      <td>0.000000</td>\n",
       "      <td>0.744337</td>\n",
       "      <td>0.739130</td>\n",
       "    </tr>\n",
       "    <tr>\n",
       "      <th>pred_time</th>\n",
       "      <td>0.338340</td>\n",
       "      <td>2.449618</td>\n",
       "      <td>44.780677</td>\n",
       "    </tr>\n",
       "    <tr>\n",
       "      <th>train_time</th>\n",
       "      <td>0.017623</td>\n",
       "      <td>1.466792</td>\n",
       "      <td>178.010374</td>\n",
       "    </tr>\n",
       "  </tbody>\n",
       "</table>\n",
       "</div>"
      ],
      "text/plain": [
       "            1% of train  10% of train  100% of train\n",
       "acc_test       0.745716      0.825207       0.837369\n",
       "acc_train      0.730000      0.846667       0.850000\n",
       "f_test         0.000000      0.670825       0.695181\n",
       "f_train        0.000000      0.744337       0.739130\n",
       "pred_time      0.338340      2.449618      44.780677\n",
       "train_time     0.017623      1.466792     178.010374"
      ]
     },
     "metadata": {},
     "output_type": "display_data"
    },
    {
     "name": "stdout",
     "output_type": "stream",
     "text": [
      "DecisionTreeClassifier\n"
     ]
    },
    {
     "data": {
      "text/html": [
       "<div>\n",
       "<style>\n",
       "    .dataframe thead tr:only-child th {\n",
       "        text-align: right;\n",
       "    }\n",
       "\n",
       "    .dataframe thead th {\n",
       "        text-align: left;\n",
       "    }\n",
       "\n",
       "    .dataframe tbody tr th {\n",
       "        vertical-align: top;\n",
       "    }\n",
       "</style>\n",
       "<table border=\"1\" class=\"dataframe\">\n",
       "  <thead>\n",
       "    <tr style=\"text-align: right;\">\n",
       "      <th></th>\n",
       "      <th>1% of train</th>\n",
       "      <th>10% of train</th>\n",
       "      <th>100% of train</th>\n",
       "    </tr>\n",
       "  </thead>\n",
       "  <tbody>\n",
       "    <tr>\n",
       "      <th>acc_test</th>\n",
       "      <td>0.803980</td>\n",
       "      <td>0.814262</td>\n",
       "      <td>0.820896</td>\n",
       "    </tr>\n",
       "    <tr>\n",
       "      <th>acc_train</th>\n",
       "      <td>1.000000</td>\n",
       "      <td>0.996667</td>\n",
       "      <td>0.980000</td>\n",
       "    </tr>\n",
       "    <tr>\n",
       "      <th>f_test</th>\n",
       "      <td>0.614437</td>\n",
       "      <td>0.635077</td>\n",
       "      <td>0.648230</td>\n",
       "    </tr>\n",
       "    <tr>\n",
       "      <th>f_train</th>\n",
       "      <td>1.000000</td>\n",
       "      <td>0.997506</td>\n",
       "      <td>0.984252</td>\n",
       "    </tr>\n",
       "    <tr>\n",
       "      <th>pred_time</th>\n",
       "      <td>0.084599</td>\n",
       "      <td>0.019384</td>\n",
       "      <td>0.022119</td>\n",
       "    </tr>\n",
       "    <tr>\n",
       "      <th>train_time</th>\n",
       "      <td>0.009266</td>\n",
       "      <td>0.046962</td>\n",
       "      <td>1.254938</td>\n",
       "    </tr>\n",
       "  </tbody>\n",
       "</table>\n",
       "</div>"
      ],
      "text/plain": [
       "            1% of train  10% of train  100% of train\n",
       "acc_test       0.803980      0.814262       0.820896\n",
       "acc_train      1.000000      0.996667       0.980000\n",
       "f_test         0.614437      0.635077       0.648230\n",
       "f_train        1.000000      0.997506       0.984252\n",
       "pred_time      0.084599      0.019384       0.022119\n",
       "train_time     0.009266      0.046962       1.254938"
      ]
     },
     "metadata": {},
     "output_type": "display_data"
    }
   ],
   "source": [
    "print(\"Before answering, we will have a look at the F-score on the test set:\")\n",
    "print(\"Decision Tree: {:.2f}\".format(results['DecisionTreeClassifier'][2]['f_test']))\n",
    "print(\"SVM: {:.2f}\".format(results['SVC'][2]['f_test']))\n",
    "print(\"Gradient Boosting: {:.2f}\".format(results['GradientBoostingClassifier'][2]['f_test']))\n",
    "\n",
    "# as suggested by the reviewer, we put the results in a Pandas Dataframe for better readeability\n",
    "for i in results.items():\n",
    "    print(i[0])\n",
    "    display(pd.DataFrame(i[1]).rename(columns={0:'1% of train', 1:'10% of train', 2:'100% of train'}))"
   ]
  },
  {
   "cell_type": "markdown",
   "metadata": {},
   "source": [
    "**Answer: **\n",
    "\n",
    "The Decision Trees will be discarded because it overfits. As one can notice from the two graphs on the right-hand side (top and bottom) the learning curves of all tree algorithm converges toward each other as the size of the training set increases. However, the difference in performance of the the Dicision Trees is still very high, even when the whole training set is used. The classifiers performs very well on the training set (F-score of almost 1), but does poorly on the test set (something around 0.65).\n",
    "\n",
    "The SVC classifier does a lot better than the Decision Tree, however it takes a lot. The first plot shows that the SVC takes almost 10 times as long to train as the slowest of the other two methods and its performance is not better that the performance of Gradient Boosting.\n",
    "\n",
    "Gradient Boosting performs almost equally well on the test and the train sets: it is not overfitting. It overperforms both Decision Tree and Support Vector Machines on the test set. The training time is reasonable (something around 20 seconds). Moreover, as already noted, it can handle simultaneously both continous and categorical data."
   ]
  },
  {
   "cell_type": "markdown",
   "metadata": {},
   "source": [
    "### Question 4 - Describing the Model in Layman's Terms\n",
    "\n",
    "* In one to two paragraphs, explain to *CharityML*, in layman's terms, how the final model chosen is supposed to work. Be sure that you are describing the major qualities of the model, such as how the model is trained and how the model makes a prediction. Avoid using advanced mathematical jargon, such as describing equations.\n",
    "\n",
    "** HINT: **\n",
    "\n",
    "When explaining your model, if using external resources please include all citations."
   ]
  },
  {
   "cell_type": "markdown",
   "metadata": {},
   "source": [
    "**Answer: ** \n",
    "Gradient Boosting will contruct a sequence of weaker algorithms and make its final decision taking into account the decision of each one of those algorithms. The weak algorithms are decision trees. \n",
    "\n",
    "Each decision tree works very much like the decision making of a person. It looks at each subject characteristics, finds the most relevant one and decides how to further analize the subject according to this characteristic. Here, by further analize the subject, we mean looking at the next more relevant characteristic. As an example, let say that age is the most relevant characteristic. The tree will look whether a subject is older than 30. If it isn't, the tree then looks, for instance, what is education level is. If the subject was older than 30, maybe it may be more relevant to look for capital gain, ecc.. The weak algorithm asks some of this questions (2 to 5) and then takes a decision.\n",
    "\n",
    "Now, Gradient Boosting is a colloction of those decision tree. However, the trees are not independent one from the others. Let say that the algorithm already trained some weak classifiers and wants to train the next one. At this point Gradient Boosting asks the new tree to learn to predict the difference between the actual answer and the result of the previous classifiers. Or, another way to say it, the new tree learns in which direction to pull the decision of the previous classifiers to make it closer to the correct one. Then the algorithm decides how much weight to give to the new tree and adds the weighted tree decision to the rest."
   ]
  },
  {
   "cell_type": "markdown",
   "metadata": {},
   "source": [
    "### Implementation: Model Tuning\n",
    "Fine tune the chosen model. Use grid search (`GridSearchCV`) with at least one important parameter tuned with at least 3 different values. You will need to use the entire training set for this. In the code cell below, you will need to implement the following:\n",
    "- Import [`sklearn.grid_search.GridSearchCV`](http://scikit-learn.org/0.17/modules/generated/sklearn.grid_search.GridSearchCV.html) and [`sklearn.metrics.make_scorer`](http://scikit-learn.org/stable/modules/generated/sklearn.metrics.make_scorer.html).\n",
    "- Initialize the classifier you've chosen and store it in `clf`.\n",
    " - Set a `random_state` if one is available to the same state you set before.\n",
    "- Create a dictionary of parameters you wish to tune for the chosen model.\n",
    " - Example: `parameters = {'parameter' : [list of values]}`.\n",
    " - **Note:** Avoid tuning the `max_features` parameter of your learner if that parameter is available!\n",
    "- Use `make_scorer` to create an `fbeta_score` scoring object (with $\\beta = 0.5$).\n",
    "- Perform grid search on the classifier `clf` using the `'scorer'`, and store it in `grid_obj`.\n",
    "- Fit the grid search object to the training data (`X_train`, `y_train`), and store it in `grid_fit`.\n",
    "\n",
    "**Note:** Depending on the algorithm chosen and the parameter list, the following implementation may take some time to run!"
   ]
  },
  {
   "cell_type": "code",
   "execution_count": null,
   "metadata": {
    "scrolled": true
   },
   "outputs": [
    {
     "name": "stdout",
     "output_type": "stream",
     "text": [
      "Fitting 3 folds for each of 48 candidates, totalling 144 fits\n",
      "[CV] max_depth=3, learning_rate=0.3, n_estimators=50 .................\n",
      "[CV] max_depth=3, learning_rate=0.3, n_estimators=50 .................\n",
      "[CV]  max_depth=3, learning_rate=0.3, n_estimators=50, score=0.7706232221360226, total=  13.1s\n",
      "[CV] max_depth=3, learning_rate=0.3, n_estimators=50 .................\n"
     ]
    },
    {
     "name": "stderr",
     "output_type": "stream",
     "text": [
      "[Parallel(n_jobs=-1)]: Done   1 tasks      | elapsed:   13.6s\n"
     ]
    },
    {
     "name": "stdout",
     "output_type": "stream",
     "text": [
      "[CV]  max_depth=3, learning_rate=0.3, n_estimators=50, score=0.7373392810286014, total=  13.3s\n",
      "[CV] max_depth=3, learning_rate=0.3, n_estimators=100 ................\n",
      "[CV]  max_depth=3, learning_rate=0.3, n_estimators=50, score=0.7439938000516662, total=  10.8s\n",
      "[CV] max_depth=3, learning_rate=0.3, n_estimators=100 ................\n",
      "[CV]  max_depth=3, learning_rate=0.3, n_estimators=100, score=0.7724399494310998, total=  18.6s\n",
      "[CV] max_depth=3, learning_rate=0.3, n_estimators=100 ................\n"
     ]
    },
    {
     "name": "stderr",
     "output_type": "stream",
     "text": [
      "[Parallel(n_jobs=-1)]: Done   4 tasks      | elapsed:   33.0s\n"
     ]
    },
    {
     "name": "stdout",
     "output_type": "stream",
     "text": [
      "[CV]  max_depth=3, learning_rate=0.3, n_estimators=100, score=0.7380645161290322, total=  17.2s\n",
      "[CV] max_depth=3, learning_rate=0.3, n_estimators=500 ................\n",
      "[CV]  max_depth=3, learning_rate=0.3, n_estimators=100, score=0.7479012973798015, total=  20.0s\n",
      "[CV] max_depth=3, learning_rate=0.3, n_estimators=500 ................\n",
      "[CV]  max_depth=3, learning_rate=0.3, n_estimators=500, score=0.7714428607151788, total= 1.4min\n",
      "[CV] max_depth=3, learning_rate=0.3, n_estimators=500 ................\n",
      "[CV]  max_depth=3, learning_rate=0.3, n_estimators=500, score=0.7348122006554071, total= 1.3min\n",
      "[CV] max_depth=3, learning_rate=0.3, n_estimators=1000 ...............\n",
      "[CV]  max_depth=3, learning_rate=0.3, n_estimators=500, score=0.7438519600681763, total= 1.4min\n",
      "[CV] max_depth=3, learning_rate=0.3, n_estimators=1000 ...............\n"
     ]
    },
    {
     "name": "stderr",
     "output_type": "stream",
     "text": [
      "[Parallel(n_jobs=-1)]: Done   9 tasks      | elapsed:  3.5min\n"
     ]
    },
    {
     "name": "stdout",
     "output_type": "stream",
     "text": [
      "[CV]  max_depth=3, learning_rate=0.3, n_estimators=1000, score=0.7726241492311571, total= 2.4min\n",
      "[CV] max_depth=3, learning_rate=0.3, n_estimators=1000 ...............\n",
      "[CV]  max_depth=3, learning_rate=0.3, n_estimators=1000, score=0.7325961296808244, total= 2.4min\n",
      "[CV] max_depth=4, learning_rate=0.3, n_estimators=50 .................\n",
      "[CV]  max_depth=4, learning_rate=0.3, n_estimators=50, score=0.7676716493539396, total=  16.2s\n",
      "[CV] max_depth=4, learning_rate=0.3, n_estimators=50 .................\n",
      "[CV]  max_depth=4, learning_rate=0.3, n_estimators=50, score=0.7415642165838346, total=  14.5s\n",
      "[CV] max_depth=4, learning_rate=0.3, n_estimators=50 .................\n",
      "[CV]  max_depth=4, learning_rate=0.3, n_estimators=50, score=0.7397260273972602, total=  14.3s\n",
      "[CV] max_depth=4, learning_rate=0.3, n_estimators=100 ................\n"
     ]
    },
    {
     "name": "stderr",
     "output_type": "stream",
     "text": [
      "[Parallel(n_jobs=-1)]: Done  14 tasks      | elapsed:  6.8min\n"
     ]
    },
    {
     "name": "stdout",
     "output_type": "stream",
     "text": [
      "[CV]  max_depth=4, learning_rate=0.3, n_estimators=100, score=0.7680684966003526, total=  28.6s\n",
      "[CV] max_depth=4, learning_rate=0.3, n_estimators=100 ................\n",
      "[CV]  max_depth=3, learning_rate=0.3, n_estimators=1000, score=0.7258258982396913, total= 2.9min\n",
      "[CV] max_depth=4, learning_rate=0.3, n_estimators=100 ................\n",
      "[CV]  max_depth=4, learning_rate=0.3, n_estimators=100, score=0.7374330186272008, total=  27.2s\n",
      "[CV] max_depth=4, learning_rate=0.3, n_estimators=500 ................\n",
      "[CV]  max_depth=4, learning_rate=0.3, n_estimators=100, score=0.7404244937789705, total=  25.9s\n",
      "[CV] max_depth=4, learning_rate=0.3, n_estimators=500 ................\n",
      "[CV]  max_depth=4, learning_rate=0.3, n_estimators=500, score=0.749938225846306, total= 2.2min\n",
      "[CV] max_depth=4, learning_rate=0.3, n_estimators=500 ................\n",
      "[CV]  max_depth=4, learning_rate=0.3, n_estimators=500, score=0.7118098539242386, total= 2.3min\n",
      "[CV] max_depth=4, learning_rate=0.3, n_estimators=1000 ...............\n",
      "[CV]  max_depth=4, learning_rate=0.3, n_estimators=500, score=0.728051391862955, total= 2.3min\n",
      "[CV] max_depth=4, learning_rate=0.3, n_estimators=1000 ...............\n"
     ]
    },
    {
     "name": "stderr",
     "output_type": "stream",
     "text": [
      "[Parallel(n_jobs=-1)]: Done  21 tasks      | elapsed: 12.3min\n"
     ]
    },
    {
     "name": "stdout",
     "output_type": "stream",
     "text": [
      "[CV]  max_depth=4, learning_rate=0.3, n_estimators=1000, score=0.7418724028354926, total= 4.7min\n",
      "[CV] max_depth=4, learning_rate=0.3, n_estimators=1000 ...............\n",
      "[CV]  max_depth=4, learning_rate=0.3, n_estimators=1000, score=0.7146383608985436, total= 5.3min\n",
      "[CV] max_depth=5, learning_rate=0.3, n_estimators=50 .................\n",
      "[CV]  max_depth=5, learning_rate=0.3, n_estimators=50, score=0.7658339641685592, total=  19.7s\n",
      "[CV] max_depth=5, learning_rate=0.3, n_estimators=50 .................\n",
      "[CV]  max_depth=5, learning_rate=0.3, n_estimators=50, score=0.7359307359307358, total=  19.3s\n",
      "[CV] max_depth=5, learning_rate=0.3, n_estimators=50 .................\n",
      "[CV]  max_depth=5, learning_rate=0.3, n_estimators=50, score=0.7348281745064588, total=  20.8s\n",
      "[CV] max_depth=5, learning_rate=0.3, n_estimators=100 ................\n",
      "[CV]  max_depth=5, learning_rate=0.3, n_estimators=100, score=0.7575757575757576, total=  56.2s\n",
      "[CV] max_depth=5, learning_rate=0.3, n_estimators=100 ................\n",
      "[CV]  max_depth=5, learning_rate=0.3, n_estimators=100, score=0.7230117177761156, total=  42.2s\n",
      "[CV] max_depth=5, learning_rate=0.3, n_estimators=100 ................\n"
     ]
    },
    {
     "name": "stderr",
     "output_type": "stream",
     "text": [
      "[Parallel(n_jobs=-1)]: Done  28 tasks      | elapsed: 20.4min\n"
     ]
    },
    {
     "name": "stdout",
     "output_type": "stream",
     "text": [
      "[CV]  max_depth=4, learning_rate=0.3, n_estimators=1000, score=0.7091205971541871, total= 5.6min\n",
      "[CV] max_depth=5, learning_rate=0.3, n_estimators=500 ................\n",
      "[CV]  max_depth=5, learning_rate=0.3, n_estimators=100, score=0.734551574897812, total=  51.3s\n",
      "[CV] max_depth=5, learning_rate=0.3, n_estimators=500 ................\n",
      "[CV]  max_depth=5, learning_rate=0.3, n_estimators=500, score=0.7412898443291326, total= 3.8min\n",
      "[CV] max_depth=5, learning_rate=0.3, n_estimators=500 ................\n",
      "[CV]  max_depth=5, learning_rate=0.3, n_estimators=500, score=0.7135838860230901, total= 3.8min\n",
      "[CV] max_depth=5, learning_rate=0.3, n_estimators=1000 ...............\n",
      "[CV]  max_depth=5, learning_rate=0.3, n_estimators=500, score=0.7074030552291423, total= 3.0min\n",
      "[CV] max_depth=5, learning_rate=0.3, n_estimators=1000 ...............\n",
      "[CV]  max_depth=5, learning_rate=0.3, n_estimators=1000, score=0.7357614275238328, total= 5.5min\n",
      "[CV] max_depth=5, learning_rate=0.3, n_estimators=1000 ...............\n",
      "[CV]  max_depth=5, learning_rate=0.3, n_estimators=1000, score=0.6987317540081359, total= 6.3min\n",
      "[CV] max_depth=6, learning_rate=0.3, n_estimators=50 .................\n",
      "[CV]  max_depth=6, learning_rate=0.3, n_estimators=50, score=0.7619884509163946, total=  25.4s\n",
      "[CV] max_depth=6, learning_rate=0.3, n_estimators=50 .................\n",
      "[CV]  max_depth=6, learning_rate=0.3, n_estimators=50, score=0.7348883872585904, total=  26.3s\n",
      "[CV] max_depth=6, learning_rate=0.3, n_estimators=50 .................\n"
     ]
    },
    {
     "name": "stderr",
     "output_type": "stream",
     "text": [
      "[Parallel(n_jobs=-1)]: Done  37 tasks      | elapsed: 34.9min\n"
     ]
    },
    {
     "name": "stdout",
     "output_type": "stream",
     "text": [
      "[CV]  max_depth=6, learning_rate=0.3, n_estimators=50, score=0.733060043404871, total=  27.1s\n",
      "[CV] max_depth=6, learning_rate=0.3, n_estimators=100 ................\n",
      "[CV]  max_depth=6, learning_rate=0.3, n_estimators=100, score=0.755740600555135, total=  47.6s\n",
      "[CV] max_depth=6, learning_rate=0.3, n_estimators=100 ................\n",
      "[CV]  max_depth=5, learning_rate=0.3, n_estimators=1000, score=0.7020587554938699, total= 6.2min\n",
      "[CV] max_depth=6, learning_rate=0.3, n_estimators=100 ................\n",
      "[CV]  max_depth=6, learning_rate=0.3, n_estimators=100, score=0.7298636926889716, total=  48.0s\n",
      "[CV] max_depth=6, learning_rate=0.3, n_estimators=500 ................\n",
      "[CV]  max_depth=6, learning_rate=0.3, n_estimators=100, score=0.727733526430123, total=  49.2s\n",
      "[CV] max_depth=6, learning_rate=0.3, n_estimators=500 ................\n",
      "[CV]  max_depth=6, learning_rate=0.3, n_estimators=500, score=0.7245508982035929, total= 4.4min\n",
      "[CV] max_depth=6, learning_rate=0.3, n_estimators=500 ................\n",
      "[CV]  max_depth=6, learning_rate=0.3, n_estimators=500, score=0.7031440409456496, total= 4.3min\n",
      "[CV] max_depth=6, learning_rate=0.3, n_estimators=1000 ...............\n",
      "[CV]  max_depth=6, learning_rate=0.3, n_estimators=500, score=0.6986899563318777, total= 4.3min\n",
      "[CV] max_depth=6, learning_rate=0.3, n_estimators=1000 ...............\n",
      "[CV]  max_depth=6, learning_rate=0.3, n_estimators=1000, score=0.7153092906615715, total= 8.6min\n",
      "[CV] max_depth=6, learning_rate=0.3, n_estimators=1000 ...............\n"
     ]
    },
    {
     "name": "stderr",
     "output_type": "stream",
     "text": [
      "[Parallel(n_jobs=-1)]: Done  46 tasks      | elapsed: 50.9min\n"
     ]
    },
    {
     "name": "stdout",
     "output_type": "stream",
     "text": [
      "[CV]  max_depth=6, learning_rate=0.3, n_estimators=1000, score=0.6795884182818857, total= 9.2min\n",
      "[CV] max_depth=3, learning_rate=0.1, n_estimators=50 .................\n",
      "[CV]  max_depth=3, learning_rate=0.1, n_estimators=50, score=0.766444508838018, total=   9.9s\n",
      "[CV] max_depth=3, learning_rate=0.1, n_estimators=50 .................\n",
      "[CV]  max_depth=3, learning_rate=0.1, n_estimators=50, score=0.7278020378457061, total=   9.8s\n",
      "[CV] max_depth=3, learning_rate=0.1, n_estimators=50 .................\n",
      "[CV]  max_depth=3, learning_rate=0.1, n_estimators=50, score=0.7350882105852703, total=   9.8s\n",
      "[CV] max_depth=3, learning_rate=0.1, n_estimators=100 ................\n",
      "[CV]  max_depth=3, learning_rate=0.1, n_estimators=100, score=0.7654590029964586, total=  17.5s\n",
      "[CV] max_depth=3, learning_rate=0.1, n_estimators=100 ................\n",
      "[CV]  max_depth=3, learning_rate=0.1, n_estimators=100, score=0.7377728654324399, total=  17.2s\n",
      "[CV] max_depth=3, learning_rate=0.1, n_estimators=100 ................\n",
      "[CV]  max_depth=3, learning_rate=0.1, n_estimators=100, score=0.7385308936621586, total=  17.3s\n",
      "[CV] max_depth=3, learning_rate=0.1, n_estimators=500 ................\n",
      "[CV]  max_depth=3, learning_rate=0.1, n_estimators=500, score=0.7699115044247788, total= 1.2min\n",
      "[CV] max_depth=3, learning_rate=0.1, n_estimators=500 ................\n",
      "[CV]  max_depth=3, learning_rate=0.1, n_estimators=500, score=0.7424203161440788, total= 1.2min\n",
      "[CV] max_depth=3, learning_rate=0.1, n_estimators=500 ................\n",
      "[CV]  max_depth=6, learning_rate=0.3, n_estimators=1000, score=0.6952294822518653, total= 8.7min\n",
      "[CV] max_depth=3, learning_rate=0.1, n_estimators=1000 ...............\n",
      "[CV]  max_depth=3, learning_rate=0.1, n_estimators=500, score=0.7486698758550798, total= 1.2min\n",
      "[CV] max_depth=3, learning_rate=0.1, n_estimators=1000 ...............\n"
     ]
    },
    {
     "name": "stderr",
     "output_type": "stream",
     "text": [
      "[Parallel(n_jobs=-1)]: Done  57 tasks      | elapsed: 60.1min\n"
     ]
    },
    {
     "name": "stdout",
     "output_type": "stream",
     "text": [
      "[CV]  max_depth=3, learning_rate=0.1, n_estimators=1000, score=0.7709865584580269, total= 2.4min\n",
      "[CV] max_depth=3, learning_rate=0.1, n_estimators=1000 ...............\n",
      "[CV]  max_depth=3, learning_rate=0.1, n_estimators=1000, score=0.7396979779882263, total= 2.5min\n",
      "[CV] max_depth=4, learning_rate=0.1, n_estimators=50 .................\n",
      "[CV]  max_depth=4, learning_rate=0.1, n_estimators=50, score=0.7776545605766564, total=  16.1s\n",
      "[CV] max_depth=4, learning_rate=0.1, n_estimators=50 .................\n",
      "[CV]  max_depth=4, learning_rate=0.1, n_estimators=50, score=0.7352526107818232, total=  15.9s\n",
      "[CV] max_depth=4, learning_rate=0.1, n_estimators=50 .................\n",
      "[CV]  max_depth=4, learning_rate=0.1, n_estimators=50, score=0.7458638459452128, total=  16.1s\n",
      "[CV] max_depth=4, learning_rate=0.1, n_estimators=100 ................\n",
      "[CV]  max_depth=4, learning_rate=0.1, n_estimators=100, score=0.7736389684813753, total=  28.1s\n",
      "[CV] max_depth=4, learning_rate=0.1, n_estimators=100 ................\n",
      "[CV]  max_depth=4, learning_rate=0.1, n_estimators=100, score=0.7408397967370955, total=  28.2s\n",
      "[CV] max_depth=4, learning_rate=0.1, n_estimators=100 ................\n",
      "[CV]  max_depth=3, learning_rate=0.1, n_estimators=1000, score=0.7524211571889744, total= 2.4min\n",
      "[CV] max_depth=4, learning_rate=0.1, n_estimators=500 ................\n",
      "[CV]  max_depth=4, learning_rate=0.1, n_estimators=100, score=0.7389414472002047, total=  28.1s\n",
      "[CV] max_depth=4, learning_rate=0.1, n_estimators=500 ................\n",
      "[CV]  max_depth=4, learning_rate=0.1, n_estimators=500, score=0.7676716493539396, total= 1.9min\n",
      "[CV] max_depth=4, learning_rate=0.1, n_estimators=500 ................\n",
      "[CV]  max_depth=4, learning_rate=0.1, n_estimators=500, score=0.7422574865625801, total= 1.9min\n",
      "[CV] max_depth=4, learning_rate=0.1, n_estimators=1000 ...............\n"
     ]
    },
    {
     "name": "stderr",
     "output_type": "stream",
     "text": [
      "[Parallel(n_jobs=-1)]: Done  68 tasks      | elapsed: 66.8min\n"
     ]
    },
    {
     "name": "stdout",
     "output_type": "stream",
     "text": [
      "[CV]  max_depth=4, learning_rate=0.1, n_estimators=500, score=0.7467452714320806, total= 1.9min\n",
      "[CV] max_depth=4, learning_rate=0.1, n_estimators=1000 ...............\n",
      "[CV]  max_depth=4, learning_rate=0.1, n_estimators=1000, score=0.7605137245026442, total= 3.7min\n",
      "[CV] max_depth=4, learning_rate=0.1, n_estimators=1000 ...............\n",
      "[CV]  max_depth=4, learning_rate=0.1, n_estimators=1000, score=0.7332836191896595, total= 3.7min\n",
      "[CV] max_depth=5, learning_rate=0.1, n_estimators=50 .................\n",
      "[CV]  max_depth=5, learning_rate=0.1, n_estimators=50, score=0.7769085513892635, total=  23.7s\n",
      "[CV] max_depth=5, learning_rate=0.1, n_estimators=50 .................\n",
      "[CV]  max_depth=5, learning_rate=0.1, n_estimators=50, score=0.7423045491691638, total=  23.5s\n",
      "[CV] max_depth=5, learning_rate=0.1, n_estimators=50 .................\n",
      "[CV]  max_depth=5, learning_rate=0.1, n_estimators=50, score=0.7397224404294318, total=  23.4s\n",
      "[CV] max_depth=5, learning_rate=0.1, n_estimators=100 ................\n",
      "[CV]  max_depth=5, learning_rate=0.1, n_estimators=100, score=0.7711757269279393, total=  40.9s\n",
      "[CV] max_depth=5, learning_rate=0.1, n_estimators=100 ................\n",
      "[CV]  max_depth=4, learning_rate=0.1, n_estimators=1000, score=0.743651753325272, total= 3.7min\n",
      "[CV] max_depth=5, learning_rate=0.1, n_estimators=100 ................\n",
      "[CV]  max_depth=5, learning_rate=0.1, n_estimators=100, score=0.739775983328992, total=  40.8s\n",
      "[CV] max_depth=5, learning_rate=0.1, n_estimators=500 ................\n",
      "[CV]  max_depth=5, learning_rate=0.1, n_estimators=100, score=0.742255266418835, total=  40.2s\n",
      "[CV] max_depth=5, learning_rate=0.1, n_estimators=500 ................\n",
      "[CV]  max_depth=5, learning_rate=0.1, n_estimators=500, score=0.7618324474816501, total= 2.7min\n",
      "[CV] max_depth=5, learning_rate=0.1, n_estimators=500 ................\n",
      "[CV]  max_depth=5, learning_rate=0.1, n_estimators=500, score=0.7361424630047654, total= 2.7min\n",
      "[CV] max_depth=5, learning_rate=0.1, n_estimators=1000 ...............\n",
      "[CV]  max_depth=5, learning_rate=0.1, n_estimators=500, score=0.7388149939540507, total= 2.7min\n",
      "[CV] max_depth=5, learning_rate=0.1, n_estimators=1000 ...............\n"
     ]
    },
    {
     "name": "stderr",
     "output_type": "stream",
     "text": [
      "[Parallel(n_jobs=-1)]: Done  81 tasks      | elapsed: 80.2min\n"
     ]
    },
    {
     "name": "stdout",
     "output_type": "stream",
     "text": [
      "[CV]  max_depth=5, learning_rate=0.1, n_estimators=1000, score=0.7526881720430108, total= 5.5min\n",
      "[CV] max_depth=5, learning_rate=0.1, n_estimators=1000 ...............\n",
      "[CV]  max_depth=5, learning_rate=0.1, n_estimators=1000, score=0.7283122048222719, total= 5.6min\n",
      "[CV] max_depth=6, learning_rate=0.1, n_estimators=50 .................\n",
      "[CV]  max_depth=6, learning_rate=0.1, n_estimators=50, score=0.7776604172167944, total=  32.2s\n",
      "[CV] max_depth=6, learning_rate=0.1, n_estimators=50 .................\n",
      "[CV]  max_depth=6, learning_rate=0.1, n_estimators=50, score=0.7357276869471991, total=  32.4s\n",
      "[CV] max_depth=6, learning_rate=0.1, n_estimators=50 .................\n",
      "[CV]  max_depth=6, learning_rate=0.1, n_estimators=50, score=0.7422574865625801, total=  32.7s\n",
      "[CV] max_depth=6, learning_rate=0.1, n_estimators=100 ................\n",
      "[CV]  max_depth=6, learning_rate=0.1, n_estimators=100, score=0.7684504184630991, total=  56.2s\n",
      "[CV] max_depth=6, learning_rate=0.1, n_estimators=100 ................\n",
      "[CV]  max_depth=5, learning_rate=0.1, n_estimators=1000, score=0.7316486161251504, total= 5.5min\n",
      "[CV] max_depth=6, learning_rate=0.1, n_estimators=100 ................\n",
      "[CV]  max_depth=6, learning_rate=0.1, n_estimators=100, score=0.7368421052631579, total=  56.0s\n",
      "[CV] max_depth=6, learning_rate=0.1, n_estimators=500 ................\n",
      "[CV]  max_depth=6, learning_rate=0.1, n_estimators=100, score=0.7388188781813688, total=  55.6s\n",
      "[CV] max_depth=6, learning_rate=0.1, n_estimators=500 ................\n",
      "[CV]  max_depth=6, learning_rate=0.1, n_estimators=500, score=0.7519555892001009, total= 3.9min\n",
      "[CV] max_depth=6, learning_rate=0.1, n_estimators=500 ................\n",
      "[CV]  max_depth=6, learning_rate=0.1, n_estimators=500, score=0.7246558197747184, total= 3.8min\n",
      "[CV] max_depth=6, learning_rate=0.1, n_estimators=1000 ...............\n",
      "[CV]  max_depth=6, learning_rate=0.1, n_estimators=500, score=0.7368043945545736, total= 3.8min\n",
      "[CV] max_depth=6, learning_rate=0.1, n_estimators=1000 ...............\n",
      "[CV]  max_depth=6, learning_rate=0.1, n_estimators=1000, score=0.7446808510638298, total= 8.0min\n",
      "[CV] max_depth=6, learning_rate=0.1, n_estimators=1000 ...............\n"
     ]
    },
    {
     "name": "stderr",
     "output_type": "stream",
     "text": [
      "[Parallel(n_jobs=-1)]: Done  94 tasks      | elapsed: 101.8min\n"
     ]
    },
    {
     "name": "stdout",
     "output_type": "stream",
     "text": [
      "[CV]  max_depth=6, learning_rate=0.1, n_estimators=1000, score=0.7176558231934443, total= 8.0min\n",
      "[CV] max_depth=3, learning_rate=0.03, n_estimators=50 ................\n",
      "[CV]  max_depth=3, learning_rate=0.03, n_estimators=50, score=0.7470532016565785, total=  10.3s\n",
      "[CV] max_depth=3, learning_rate=0.03, n_estimators=50 ................\n",
      "[CV]  max_depth=3, learning_rate=0.03, n_estimators=50, score=0.7023301608139154, total=  10.2s\n",
      "[CV] max_depth=3, learning_rate=0.03, n_estimators=50 ................\n",
      "[CV]  max_depth=3, learning_rate=0.03, n_estimators=50, score=0.7073552425665102, total=  10.4s\n",
      "[CV] max_depth=3, learning_rate=0.03, n_estimators=100 ...............\n",
      "[CV]  max_depth=3, learning_rate=0.03, n_estimators=100, score=0.7579011966861001, total=  19.9s\n",
      "[CV] max_depth=3, learning_rate=0.03, n_estimators=100 ...............\n",
      "[CV]  max_depth=3, learning_rate=0.03, n_estimators=100, score=0.7295262001882649, total=  19.8s\n",
      "[CV] max_depth=3, learning_rate=0.03, n_estimators=100 ...............\n",
      "[CV]  max_depth=3, learning_rate=0.03, n_estimators=100, score=0.7314570507182645, total=  19.8s\n",
      "[CV] max_depth=3, learning_rate=0.03, n_estimators=500 ...............\n",
      "[CV]  max_depth=3, learning_rate=0.03, n_estimators=500, score=0.774703557312253, total= 1.4min\n",
      "[CV] max_depth=3, learning_rate=0.03, n_estimators=500 ...............\n",
      "[CV]  max_depth=3, learning_rate=0.03, n_estimators=500, score=0.7357276869471991, total= 1.4min\n",
      "[CV] max_depth=3, learning_rate=0.03, n_estimators=500 ...............\n",
      "[CV]  max_depth=6, learning_rate=0.1, n_estimators=1000, score=0.7216003810431055, total= 7.9min\n",
      "[CV] max_depth=3, learning_rate=0.03, n_estimators=1000 ..............\n",
      "[CV]  max_depth=4, learning_rate=0.03, n_estimators=50, score=0.7468038665419395, total=  17.0s\n",
      "[CV] max_depth=4, learning_rate=0.03, n_estimators=50 ................\n",
      "[CV]  max_depth=4, learning_rate=0.03, n_estimators=50, score=0.7192982456140351, total=  16.9s\n",
      "[CV] max_depth=4, learning_rate=0.03, n_estimators=50 ................\n"
     ]
    },
    {
     "name": "stderr",
     "output_type": "stream",
     "text": [
      "[Parallel(n_jobs=-1)]: Done 109 tasks      | elapsed: 114.0min\n"
     ]
    },
    {
     "name": "stdout",
     "output_type": "stream",
     "text": [
      "[CV]  max_depth=4, learning_rate=0.03, n_estimators=50, score=0.7158487027195999, total=  17.0s\n",
      "[CV] max_depth=4, learning_rate=0.03, n_estimators=100 ...............\n",
      "[CV]  max_depth=4, learning_rate=0.03, n_estimators=1000, score=0.7691336196009093, total= 3.9min\n",
      "[CV] max_depth=4, learning_rate=0.03, n_estimators=1000 ..............\n",
      "[CV]  max_depth=4, learning_rate=0.03, n_estimators=1000, score=0.7442698944115375, total= 3.9min\n",
      "[CV] max_depth=5, learning_rate=0.03, n_estimators=50 ................\n",
      "[CV]  max_depth=5, learning_rate=0.03, n_estimators=50, score=0.7659181790218396, total=  24.8s\n",
      "[CV] max_depth=5, learning_rate=0.03, n_estimators=50 ................\n",
      "[CV]  max_depth=5, learning_rate=0.03, n_estimators=50, score=0.729001584786054, total=  24.8s\n",
      "[CV] max_depth=5, learning_rate=0.03, n_estimators=50 ................\n",
      "[CV]  max_depth=5, learning_rate=0.03, n_estimators=50, score=0.7320400121248863, total=  24.6s\n",
      "[CV] max_depth=5, learning_rate=0.03, n_estimators=100 ...............\n",
      "[CV]  max_depth=4, learning_rate=0.03, n_estimators=1000, score=0.7514236197078484, total= 3.8min\n",
      "[CV] max_depth=5, learning_rate=0.03, n_estimators=100 ...............\n",
      "[CV]  max_depth=5, learning_rate=0.03, n_estimators=100, score=0.7791269152934374, total=  49.0s\n",
      "[CV] max_depth=5, learning_rate=0.03, n_estimators=100 ...............\n"
     ]
    },
    {
     "name": "stderr",
     "output_type": "stream",
     "text": [
      "[Parallel(n_jobs=-1)]: Done 124 tasks      | elapsed: 125.7min\n"
     ]
    },
    {
     "name": "stdout",
     "output_type": "stream",
     "text": [
      "[CV]  max_depth=5, learning_rate=0.03, n_estimators=100, score=0.7365356622998543, total=  49.3s\n",
      "[CV] max_depth=5, learning_rate=0.03, n_estimators=500 ...............\n",
      "[CV]  max_depth=5, learning_rate=0.03, n_estimators=100, score=0.7422209534684555, total=  49.7s\n",
      "[CV] max_depth=5, learning_rate=0.03, n_estimators=500 ...............\n",
      "[CV]  max_depth=5, learning_rate=0.03, n_estimators=500, score=0.7743082000507743, total= 3.1min\n",
      "[CV] max_depth=5, learning_rate=0.03, n_estimators=500 ...............\n",
      "[CV]  max_depth=5, learning_rate=0.03, n_estimators=500, score=0.7422176485721637, total= 3.1min\n",
      "[CV] max_depth=5, learning_rate=0.03, n_estimators=1000 ..............\n",
      "[CV]  max_depth=5, learning_rate=0.03, n_estimators=500, score=0.7412465855475541, total= 3.0min\n",
      "[CV] max_depth=5, learning_rate=0.03, n_estimators=1000 ..............\n",
      "[CV]  max_depth=5, learning_rate=0.03, n_estimators=1000, score=0.7638712946541677, total= 5.5min\n",
      "[CV] max_depth=5, learning_rate=0.03, n_estimators=1000 ..............\n",
      "[CV]  max_depth=5, learning_rate=0.03, n_estimators=1000, score=0.7402696514881711, total= 5.5min\n",
      "[CV] max_depth=6, learning_rate=0.03, n_estimators=50 ................\n",
      "[CV]  max_depth=6, learning_rate=0.03, n_estimators=50, score=0.7667584940312213, total=  35.0s\n",
      "[CV] max_depth=6, learning_rate=0.03, n_estimators=50 ................\n",
      "[CV]  max_depth=6, learning_rate=0.03, n_estimators=50, score=0.7304429783223375, total=  34.7s\n",
      "[CV] max_depth=6, learning_rate=0.03, n_estimators=50 ................\n",
      "[CV]  max_depth=6, learning_rate=0.03, n_estimators=50, score=0.7357910906298003, total=  34.4s\n",
      "[CV] max_depth=6, learning_rate=0.03, n_estimators=100 ...............\n",
      "[CV]  max_depth=5, learning_rate=0.03, n_estimators=1000, score=0.7437608104768965, total= 5.4min\n",
      "[CV] max_depth=6, learning_rate=0.03, n_estimators=100 ...............\n",
      "[CV]  max_depth=6, learning_rate=0.03, n_estimators=100, score=0.7811182916549593, total= 1.2min\n",
      "[CV] max_depth=6, learning_rate=0.03, n_estimators=100 ...............\n",
      "[CV]  max_depth=6, learning_rate=0.03, n_estimators=100, score=0.7385229540918163, total= 1.1min\n",
      "[CV] max_depth=6, learning_rate=0.03, n_estimators=500 ...............\n",
      "[CV]  max_depth=6, learning_rate=0.03, n_estimators=100, score=0.7447675998912748, total= 1.1min\n",
      "[CV] max_depth=6, learning_rate=0.03, n_estimators=500 ...............\n",
      "[CV]  max_depth=6, learning_rate=0.03, n_estimators=500, score=0.768159959503923, total= 4.2min\n",
      "[CV] max_depth=6, learning_rate=0.03, n_estimators=500 ...............\n",
      "[CV]  max_depth=6, learning_rate=0.03, n_estimators=500, score=0.7359307359307358, total= 4.2min\n",
      "[CV] max_depth=6, learning_rate=0.03, n_estimators=1000 ..............\n",
      "[CV]  max_depth=6, learning_rate=0.03, n_estimators=500, score=0.7418324735937116, total= 4.2min\n",
      "[CV] max_depth=6, learning_rate=0.03, n_estimators=1000 ..............\n"
     ]
    },
    {
     "name": "stderr",
     "output_type": "stream",
     "text": [
      "[Parallel(n_jobs=-1)]: Done 141 tasks      | elapsed: 150.3min\n"
     ]
    },
    {
     "name": "stdout",
     "output_type": "stream",
     "text": [
      "[CV]  max_depth=6, learning_rate=0.03, n_estimators=1000, score=0.7612239779282669, total= 7.6min\n",
      "[CV] max_depth=6, learning_rate=0.03, n_estimators=1000 ..............\n",
      "[CV]  max_depth=6, learning_rate=0.03, n_estimators=1000, score=0.7323802357662403, total= 7.6min\n",
      "[CV]  max_depth=6, learning_rate=0.03, n_estimators=1000, score=0.7354743809757294, total= 7.0min\n"
     ]
    },
    {
     "name": "stderr",
     "output_type": "stream",
     "text": [
      "[Parallel(n_jobs=-1)]: Done 144 out of 144 | elapsed: 161.0min finished\n"
     ]
    },
    {
     "name": "stdout",
     "output_type": "stream",
     "text": [
      "Unoptimized model\n",
      "------\n",
      "Accuracy score on testing data: 0.8638\n",
      "F-score on testing data: 0.7580\n",
      "\n",
      "Optimized Model\n",
      "------\n",
      "Final accuracy score on the testing data: 0.8732\n",
      "Final F-score on the testing data: 0.7722\n"
     ]
    }
   ],
   "source": [
    "# TODO: Import 'GridSearchCV', 'make_scorer', and any other necessary libraries\n",
    "from sklearn.model_selection import GridSearchCV\n",
    "from sklearn.metrics import make_scorer\n",
    "\n",
    "# TODO: Initialize the classifier\n",
    "clf = GradientBoostingClassifier(random_state=42)\n",
    "\n",
    "# TODO: Create the parameters list you wish to tune, using a dictionary if needed.\n",
    "# HINT: parameters = {'parameter_1': [value1, value2], 'parameter_2': [value1, value2]}\n",
    "parameters = { \n",
    "    'learning_rate' : [0.3, 0.1, 0.03],\n",
    "    'n_estimators' : [50, 100, 500, 1000],\n",
    "    'max_depth' : [3, 4, 5, 6]\n",
    "             }\n",
    "\n",
    "# TODO: Make an fbeta_score scoring object using make_scorer()\n",
    "scorer = make_scorer(fbeta_score, beta=0.5)\n",
    "\n",
    "# as suggested by the reviewer, we import stratified shuffle split to mantain the class balances across the CV set\n",
    "from sklearn.model_selection import StratifiedShuffleSplit\n",
    "cv = StratifiedShuffleSplit(n_splits=3)\n",
    "\n",
    "# TODO: Perform grid search on the classifier using 'scorer' as the scoring method using GridSearchCV()\n",
    "grid_obj = GridSearchCV(clf, parameters, scoring=scorer, n_jobs = -1, verbose = 10, cv=cv)\n",
    "\n",
    "# TODO: Fit the grid search object to the training data and find the optimal parameters using fit()\n",
    "grid_fit = grid_obj.fit(X_train, y_train)\n",
    "\n",
    "# Get the estimator\n",
    "best_clf = grid_fit.best_estimator_\n",
    "\n",
    "# Make predictions using the unoptimized and model\n",
    "predictions = (clf.fit(X_train, y_train)).predict(X_test)\n",
    "best_predictions = best_clf.predict(X_test)\n",
    "\n",
    "# Report the before-and-afterscores\n",
    "print (\"Unoptimized model\\n------\")\n",
    "print (\"Accuracy score on testing data: {:.4f}\".format(accuracy_score(y_test, predictions)))\n",
    "print (\"F-score on testing data: {:.4f}\".format(fbeta_score(y_test, predictions, beta=0.5)))\n",
    "print (\"\\nOptimized Model\\n------\")\n",
    "print (\"Final accuracy score on the testing data: {:.4f}\".format(accuracy_score(y_test, best_predictions)))\n",
    "print (\"Final F-score on the testing data: {:.4f}\".format(fbeta_score(y_test, best_predictions, beta=0.5)))"
   ]
  },
  {
   "cell_type": "code",
   "execution_count": null,
   "metadata": {},
   "outputs": [
    {
     "data": {
      "text/plain": [
       "GradientBoostingClassifier(criterion='friedman_mse', init=None,\n",
       "              learning_rate=0.03, loss='deviance', max_depth=4,\n",
       "              max_features=None, max_leaf_nodes=None,\n",
       "              min_impurity_decrease=0.0, min_impurity_split=None,\n",
       "              min_samples_leaf=1, min_samples_split=2,\n",
       "              min_weight_fraction_leaf=0.0, n_estimators=1000,\n",
       "              presort='auto', random_state=42, subsample=1.0, verbose=0,\n",
       "              warm_start=False)"
      ]
     },
     "execution_count": 14,
     "metadata": {},
     "output_type": "execute_result"
    }
   ],
   "source": [
    "best_clf"
   ]
  },
  {
   "cell_type": "markdown",
   "metadata": {},
   "source": [
    "### Question 5 - Final Model Evaluation\n",
    "\n",
    "* What is your optimized model's accuracy and F-score on the testing data? \n",
    "* Are these scores better or worse than the unoptimized model? \n",
    "* How do the results from your optimized model compare to the naive predictor benchmarks you found earlier in **Question 1**?_  \n",
    "\n",
    "**Note:** Fill in the table below with your results, and then provide discussion in the **Answer** box."
   ]
  },
  {
   "cell_type": "markdown",
   "metadata": {},
   "source": [
    "#### Results:\n",
    "\n",
    "|     Metric     | Unoptimized Model | Optimized Model |\n",
    "| :------------: | :---------------: | :-------------: | \n",
    "| Accuracy Score |   0.8638          |    0.8732             |\n",
    "| F-score        |        0.758           |   0.7722       |\n"
   ]
  },
  {
   "cell_type": "markdown",
   "metadata": {},
   "source": [
    "**Answer: **\n",
    "\n",
    "Using Grid Search we found an optimized model which performs better than the unoptimized one. The increase in performance is something short of 2%. The best combination of parameters for the model are:\n",
    "- learning_rate: 0.3\n",
    "- n_estimators: 1000\n",
    "- max_depth: 4\n",
    "\n",
    "There is a sharp increase in performance compared to the naive classifier which performed as follows:\n",
    "- Accuracy score: 0.2478\n",
    "- F-score: 0.2917"
   ]
  },
  {
   "cell_type": "code",
   "execution_count": null,
   "metadata": {},
   "outputs": [
    {
     "data": {
      "text/plain": [
       "<matplotlib.axes._subplots.AxesSubplot at 0x1a0f5e8a20>"
      ]
     },
     "execution_count": 15,
     "metadata": {},
     "output_type": "execute_result"
    },
    {
     "data": {
      "image/png": "[encoded data removed]",
      "text/plain": [
       "<matplotlib.figure.Figure at 0x1a0f5d8f28>"
      ]
     },
     "metadata": {},
     "output_type": "display_data"
    }
   ],
   "source": [
    "# as suggested by the reviewer, we can compute the confusion matrix\n",
    "from sklearn.metrics import confusion_matrix\n",
    "import seaborn as sns\n",
    "%matplotlib inline\n",
    "\n",
    "pred = best_clf.predict(X_test)\n",
    "con_matrx = pd.DataFrame(confusion_matrix(y_test, pred), columns=[\"pred_false\", \"pred_true\"])\n",
    "sns.heatmap(con_matrx, annot = True, fmt = '')"
   ]
  },
  {
   "cell_type": "markdown",
   "metadata": {},
   "source": [
    "----\n",
    "## Feature Importance\n",
    "\n",
    "An important task when performing supervised learning on a dataset like the census data we study here is determining which features provide the most predictive power. By focusing on the relationship between only a few crucial features and the target label we simplify our understanding of the phenomenon, which is most always a useful thing to do. In the case of this project, that means we wish to identify a small number of features that most strongly predict whether an individual makes at most or more than \\$50,000.\n",
    "\n",
    "Choose a scikit-learn classifier (e.g., adaboost, random forests) that has a `feature_importance_` attribute, which is a function that ranks the importance of features according to the chosen classifier.  In the next python cell fit this classifier to training set and use this attribute to determine the top 5 most important features for the census dataset."
   ]
  },
  {
   "cell_type": "markdown",
   "metadata": {},
   "source": [
    "### Question 6 - Feature Relevance Observation\n",
    "When **Exploring the Data**, it was shown there are thirteen available features for each individual on record in the census data. Of these thirteen records, which five features do you believe to be most important for prediction, and in what order would you rank them and why?"
   ]
  },
  {
   "cell_type": "markdown",
   "metadata": {},
   "source": [
    "**Answer:**\n",
    "1. **occupation:** I think that the type of job is important in determining the salary.\n",
    "3. **education:** Higher education should lead to higher paying.\n",
    "3. **age:** I expect people to earn more money as they advance their career.\n",
    "7. **capital gain:** One needs to have some capital in the first place to make money out of them. People with lower income will have trouble saving many to invest.\n",
    "5. **sex:** According to the news, today men earn more than women, I imagine the phenomenon was worse 20 years ago. I am not sure if it is that much relevant to make the difference in our treshold of 50k.\n"
   ]
  },
  {
   "cell_type": "markdown",
   "metadata": {},
   "source": [
    "### Implementation - Extracting Feature Importance\n",
    "Choose a `scikit-learn` supervised learning algorithm that has a `feature_importance_` attribute availble for it. This attribute is a function that ranks the importance of each feature when making predictions based on the chosen algorithm.\n",
    "\n",
    "In the code cell below, you will need to implement the following:\n",
    " - Import a supervised learning model from sklearn if it is different from the three used earlier.\n",
    " - Train the supervised model on the entire training set.\n",
    " - Extract the feature importances using `'.feature_importances_'`."
   ]
  },
  {
   "cell_type": "code",
   "execution_count": null,
   "metadata": {},
   "outputs": [
    {
     "data": {
      "image/png": "[encoded data removed]",
      "text/plain": [
       "<matplotlib.figure.Figure at 0x1a0fb80dd8>"
      ]
     },
     "metadata": {},
     "output_type": "display_data"
    }
   ],
   "source": [
    "# TODO: Import a supervised learning model that has 'feature_importances_'\n",
    "from sklearn.ensemble import GradientBoostingClassifier\n",
    "\n",
    "# TODO: Train the supervised model on the training set using .fit(X_train, y_train)\n",
    "model = GradientBoostingClassifier(random_state=42, n_estimators=1000, learning_rate=0.03, max_depth=4)\n",
    "model.fit(X_train, y_train)\n",
    "\n",
    "# TODO: Extract the feature importances using .feature_importances_ \n",
    "importances = model.feature_importances_\n",
    "\n",
    "# Plot\n",
    "vs.feature_plot(importances, X_train, y_train)"
   ]
  },
  {
   "cell_type": "markdown",
   "metadata": {},
   "source": [
    "### Question 7 - Extracting Feature Importance\n",
    "\n",
    "Observe the visualization created above which displays the five most relevant features for predicting if an individual makes at most or above \\$50,000.  \n",
    "* How do these five features compare to the five features you discussed in **Question 6**?\n",
    "* If you were close to the same answer, how does this visualization confirm your thoughts? \n",
    "* If you were not close, why do you think these features are more relevant?"
   ]
  },
  {
   "cell_type": "markdown",
   "metadata": {},
   "source": [
    "**Answer:**\n",
    "\n",
    "I only guessed right 2 out of the 5 features. Age is the most relevant feature: As I said before, one is expected to gain more as he increases his career. \n",
    "\n",
    "Capital-loss was not counted as an important feature in the previous answer, but it should be important for the same reason that capital-gain is: the more money one makes, the more he can reinvest, thus makig them gain or lose more on those investments.\n",
    "\n",
    "Education is a quite relevant feature and probably the continuous version is more useful to the algorithm than the categorical one.\n",
    "\n",
    "Hours-per-week is relevant because the more one works, the more he earns. I did not expected to be that relevant beacause I thought that the quality of the work (the earnings per hours) was more relevant. Instead, it appears that working many hours adds up quickly."
   ]
  },
  {
   "cell_type": "markdown",
   "metadata": {},
   "source": [
    "### Feature Selection\n",
    "How does a model perform if we only use a subset of all the available features in the data? With less features required to train, the expectation is that training and prediction time is much lower — at the cost of performance metrics. From the visualization above, we see that the top five most important features contribute more than half of the importance of **all** features present in the data. This hints that we can attempt to *reduce the feature space* and simplify the information required for the model to learn. The code cell below will use the same optimized model you found earlier, and train it on the same training set *with only the top five important features*. "
   ]
  },
  {
   "cell_type": "code",
   "execution_count": null,
   "metadata": {},
   "outputs": [
    {
     "name": "stdout",
     "output_type": "stream",
     "text": [
      "Final Model trained on full data\n",
      "------\n",
      "Accuracy on testing data: 0.8732\n",
      "F-score on testing data: 0.7722\n",
      "\n",
      "Final Model trained on reduced data\n",
      "------\n",
      "Accuracy on testing data: 0.8407\n",
      "F-score on testing data: 0.7124\n"
     ]
    }
   ],
   "source": [
    "# Import functionality for cloning a model\n",
    "from sklearn.base import clone\n",
    "\n",
    "# Reduce the feature space\n",
    "X_train_reduced = X_train[X_train.columns.values[(np.argsort(importances)[::-1])[:5]]]\n",
    "X_test_reduced = X_test[X_test.columns.values[(np.argsort(importances)[::-1])[:5]]]\n",
    "\n",
    "# Train on the \"best\" model found from grid search earlier\n",
    "clf = (clone(best_clf)).fit(X_train_reduced, y_train)\n",
    "\n",
    "# Make new predictions\n",
    "reduced_predictions = clf.predict(X_test_reduced)\n",
    "\n",
    "# Report scores from the final model using both versions of data\n",
    "print (\"Final Model trained on full data\\n------\")\n",
    "print (\"Accuracy on testing data: {:.4f}\".format(accuracy_score(y_test, best_predictions)))\n",
    "print (\"F-score on testing data: {:.4f}\".format(fbeta_score(y_test, best_predictions, beta = 0.5)))\n",
    "print (\"\\nFinal Model trained on reduced data\\n------\")\n",
    "print (\"Accuracy on testing data: {:.4f}\".format(accuracy_score(y_test, reduced_predictions)))\n",
    "print (\"F-score on testing data: {:.4f}\".format(fbeta_score(y_test, reduced_predictions, beta = 0.5)))"
   ]
  },
  {
   "cell_type": "markdown",
   "metadata": {},
   "source": [
    "### Question 8 - Effects of Feature Selection\n",
    "\n",
    "* How does the final model's F-score and accuracy score on the reduced data using only five features compare to those same scores when all features are used?\n",
    "* If training time was a factor, would you consider using the reduced data as your training set?"
   ]
  },
  {
   "cell_type": "markdown",
   "metadata": {},
   "source": [
    "**Answer:**\n",
    "\n",
    "There is a loss in performance when only five features are considered. The Accuracy is reduced by 3%, while the F-score suffers a loss of 6%. CharityML is interested in correcly identifying rich donors, hense F-score is the more important metric. The training and testing time of the algorithm is about 3 minutes, which is nothing compared to the time wasted by the company if it were to wrongly attempt a found raise among non-potential donors. Given this loss in performans and this small gain in time, I wuold discourage the use of reduced features.\n",
    "In my opinion, to justify a loss in performance of 6%, one need to have a much more consistent reduction in training time."
   ]
  },
  {
   "cell_type": "code",
   "execution_count": null,
   "metadata": {},
   "outputs": [
    {
     "name": "stdout",
     "output_type": "stream",
     "text": [
      "\n",
      "Final Model trained on PCA data\n",
      "------\n",
      "Accuracy on testing data: 0.8364\n",
      "F-score on testing data: 0.6900\n"
     ]
    }
   ],
   "source": [
    "# as suggested by the reviewer, one can do Principal Component Analysis instead of just picking the 5 best features\n",
    "from sklearn.decomposition import PCA\n",
    "\n",
    "pca = PCA(n_components=0.8, whiten=True)\n",
    "X_train_pca = pca.fit_transform(X_train)\n",
    "X_test_pca = pca.transform(X_test)\n",
    "\n",
    "clf_pca = (clone(best_clf)).fit(X_train_pca, y_train)\n",
    "pca_predictions = clf_pca.predict(X_test_pca)\n",
    "\n",
    "print (\"\\nFinal Model trained on PCA data\\n------\")\n",
    "print (\"Accuracy on testing data: {:.4f}\".format(accuracy_score(y_test, pca_predictions)))\n",
    "print (\"F-score on testing data: {:.4f}\".format(fbeta_score(y_test, pca_predictions, beta = 0.5)))"
   ]
  },
  {
   "cell_type": "markdown",
   "metadata": {},
   "source": [
    "> **Note**: Once you have completed all of the code implementations and successfully answered each question above, you may finalize your work by exporting the iPython Notebook as an HTML document. You can do this by using the menu above and navigating to  \n",
    "**File -> Download as -> HTML (.html)**. Include the finished document along with this notebook as your submission."
   ]
  }
 ],
 "metadata": {
  "kernelspec": {
   "display_name": "Python [conda root]",
   "language": "python",
   "name": "conda-root-py"
  },
  "language_info": {
   "codemirror_mode": {
    "name": "ipython",
    "version": 3
   },
   "file_extension": ".py",
   "mimetype": "text/x-python",
   "name": "python",
   "nbconvert_exporter": "python",
   "pygments_lexer": "ipython3",
   "version": "3.5.3"
  }
 },
 "nbformat": 4,
 "nbformat_minor": 1
}
